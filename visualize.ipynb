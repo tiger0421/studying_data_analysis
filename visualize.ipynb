{
 "cells": [
  {
   "cell_type": "code",
   "execution_count": 3,
   "metadata": {
    "colab": {
     "base_uri": "https://localhost:8080/",
     "height": 128
    },
    "colab_type": "code",
    "executionInfo": {
     "elapsed": 20403,
     "status": "ok",
     "timestamp": 1597846765242,
     "user": {
      "displayName": "島田滉己",
      "photoUrl": "",
      "userId": "01974757258960983292"
     },
     "user_tz": -540
    },
    "id": "tnWcU02qFmQF",
    "outputId": "3aba8b64-f071-4f91-8bfb-1292822640cd"
   },
   "outputs": [
    {
     "name": "stdout",
     "output_type": "stream",
     "text": [
      "Go to this URL in a browser: https://accounts.google.com/o/oauth2/auth?client_id=947318989803-6bn6qk8qdgf4n4g3pfee6491hc0brc4i.apps.googleusercontent.com&redirect_uri=urn%3aietf%3awg%3aoauth%3a2.0%3aoob&scope=email%20https%3a%2f%2fwww.googleapis.com%2fauth%2fdocs.test%20https%3a%2f%2fwww.googleapis.com%2fauth%2fdrive%20https%3a%2f%2fwww.googleapis.com%2fauth%2fdrive.photos.readonly%20https%3a%2f%2fwww.googleapis.com%2fauth%2fpeopleapi.readonly&response_type=code\n",
      "\n",
      "Enter your authorization code:\n",
      "··········\n",
      "Mounted at /content/drive\n"
     ]
    }
   ],
   "source": [
    "from google.colab import drive\n",
    "drive.mount('/content/drive')"
   ]
  },
  {
   "cell_type": "code",
   "execution_count": 1,
   "metadata": {
    "colab": {},
    "colab_type": "code",
    "executionInfo": {
     "elapsed": 813,
     "status": "ok",
     "timestamp": 1597848214308,
     "user": {
      "displayName": "島田滉己",
      "photoUrl": "",
      "userId": "01974757258960983292"
     },
     "user_tz": -540
    },
    "id": "WVRoL4BUFG_n"
   },
   "outputs": [],
   "source": [
    "import pandas as pd\n",
    "import numpy as np\n",
    "import lightgbm as lgb\n",
    "import warnings\n",
    "import gc\n",
    "from sklearn.model_selection import train_test_split\n",
    "from sklearn import preprocessing\n",
    "from sklearn import metrics\n",
    "warnings.simplefilter('ignore')\n",
    "\n",
    "import matplotlib.pyplot as plt\n",
    "%matplotlib inline"
   ]
  },
  {
   "cell_type": "code",
   "execution_count": 2,
   "metadata": {
    "colab": {},
    "colab_type": "code",
    "executionInfo": {
     "elapsed": 3285,
     "status": "ok",
     "timestamp": 1597847387242,
     "user": {
      "displayName": "島田滉己",
      "photoUrl": "",
      "userId": "01974757258960983292"
     },
     "user_tz": -540
    },
    "id": "FYVCWOQgFG_s"
   },
   "outputs": [],
   "source": [
    "train_df = pd.read_csv(\"./train.csv\")\n",
    "test_df = pd.read_csv(\"./test.csv\")\n",
    "submit_df = pd.read_csv(\"./submit_sample.csv\", header=None)\n"
   ]
  },
  {
   "cell_type": "code",
   "execution_count": null,
   "metadata": {},
   "outputs": [],
   "source": [
    "# google colab\n",
    "train_df = pd.read_csv(\"/content/drive/My Drive/Colab Notebooks/signate/train.csv\")\n",
    "test_df = pd.read_csv(\"/content/drive/My Drive/Colab Notebooks/signate/test.csv\")\n",
    "submit_df = pd.read_csv(\"/content/drive/My Drive/Colab Notebooks/signate/submit_sample.csv\", header=None)"
   ]
  },
  {
   "cell_type": "code",
   "execution_count": null,
   "metadata": {},
   "outputs": [],
   "source": []
  },
  {
   "cell_type": "code",
   "execution_count": 3,
   "metadata": {
    "colab": {
     "base_uri": "https://localhost:8080/",
     "height": 35
    },
    "colab_type": "code",
    "executionInfo": {
     "elapsed": 796,
     "status": "ok",
     "timestamp": 1597847392142,
     "user": {
      "displayName": "島田滉己",
      "photoUrl": "",
      "userId": "01974757258960983292"
     },
     "user_tz": -540
    },
    "id": "mZt3hDH8FG_x",
    "outputId": "477dd8d8-da6a-4450-835c-1b8298bd0a13"
   },
   "outputs": [
    {
     "data": {
      "text/plain": [
       "((27100, 18), (18050, 17), (18050, 2))"
      ]
     },
     "execution_count": 3,
     "metadata": {},
     "output_type": "execute_result"
    }
   ],
   "source": [
    "train_df.shape, test_df.shape, submit_df.shape"
   ]
  },
  {
   "cell_type": "code",
   "execution_count": 4,
   "metadata": {
    "colab": {
     "base_uri": "https://localhost:8080/",
     "height": 202
    },
    "colab_type": "code",
    "executionInfo": {
     "elapsed": 1186,
     "status": "ok",
     "timestamp": 1597847397159,
     "user": {
      "displayName": "島田滉己",
      "photoUrl": "",
      "userId": "01974757258960983292"
     },
     "user_tz": -540
    },
    "id": "Dh4b02UNFG_1",
    "outputId": "c6fb4abd-4835-40c0-9608-ecf4a9d8e807"
   },
   "outputs": [
    {
     "data": {
      "text/html": [
       "<div>\n",
       "<style scoped>\n",
       "    .dataframe tbody tr th:only-of-type {\n",
       "        vertical-align: middle;\n",
       "    }\n",
       "\n",
       "    .dataframe tbody tr th {\n",
       "        vertical-align: top;\n",
       "    }\n",
       "\n",
       "    .dataframe thead th {\n",
       "        text-align: right;\n",
       "    }\n",
       "</style>\n",
       "<table border=\"1\" class=\"dataframe\">\n",
       "  <thead>\n",
       "    <tr style=\"text-align: right;\">\n",
       "      <th></th>\n",
       "      <th>id</th>\n",
       "      <th>age</th>\n",
       "      <th>job</th>\n",
       "      <th>marital</th>\n",
       "      <th>education</th>\n",
       "      <th>default</th>\n",
       "      <th>balance</th>\n",
       "      <th>housing</th>\n",
       "      <th>loan</th>\n",
       "      <th>contact</th>\n",
       "      <th>day</th>\n",
       "      <th>month</th>\n",
       "      <th>duration</th>\n",
       "      <th>campaign</th>\n",
       "      <th>pdays</th>\n",
       "      <th>previous</th>\n",
       "      <th>poutcome</th>\n",
       "      <th>y</th>\n",
       "    </tr>\n",
       "  </thead>\n",
       "  <tbody>\n",
       "    <tr>\n",
       "      <th>0</th>\n",
       "      <td>0</td>\n",
       "      <td>31</td>\n",
       "      <td>services</td>\n",
       "      <td>married</td>\n",
       "      <td>secondary</td>\n",
       "      <td>no</td>\n",
       "      <td>12294</td>\n",
       "      <td>yes</td>\n",
       "      <td>no</td>\n",
       "      <td>cellular</td>\n",
       "      <td>21</td>\n",
       "      <td>nov</td>\n",
       "      <td>101</td>\n",
       "      <td>3</td>\n",
       "      <td>498</td>\n",
       "      <td>0</td>\n",
       "      <td>other</td>\n",
       "      <td>0</td>\n",
       "    </tr>\n",
       "    <tr>\n",
       "      <th>1</th>\n",
       "      <td>1</td>\n",
       "      <td>29</td>\n",
       "      <td>entrepreneur</td>\n",
       "      <td>single</td>\n",
       "      <td>tertiary</td>\n",
       "      <td>no</td>\n",
       "      <td>43027</td>\n",
       "      <td>no</td>\n",
       "      <td>no</td>\n",
       "      <td>cellular</td>\n",
       "      <td>22</td>\n",
       "      <td>aug</td>\n",
       "      <td>158</td>\n",
       "      <td>2</td>\n",
       "      <td>702</td>\n",
       "      <td>0</td>\n",
       "      <td>unknown</td>\n",
       "      <td>1</td>\n",
       "    </tr>\n",
       "    <tr>\n",
       "      <th>2</th>\n",
       "      <td>2</td>\n",
       "      <td>35</td>\n",
       "      <td>management</td>\n",
       "      <td>married</td>\n",
       "      <td>tertiary</td>\n",
       "      <td>no</td>\n",
       "      <td>12252</td>\n",
       "      <td>yes</td>\n",
       "      <td>no</td>\n",
       "      <td>cellular</td>\n",
       "      <td>11</td>\n",
       "      <td>nov</td>\n",
       "      <td>351</td>\n",
       "      <td>1</td>\n",
       "      <td>826</td>\n",
       "      <td>0</td>\n",
       "      <td>failure</td>\n",
       "      <td>0</td>\n",
       "    </tr>\n",
       "    <tr>\n",
       "      <th>3</th>\n",
       "      <td>3</td>\n",
       "      <td>31</td>\n",
       "      <td>technician</td>\n",
       "      <td>married</td>\n",
       "      <td>secondary</td>\n",
       "      <td>no</td>\n",
       "      <td>99121</td>\n",
       "      <td>yes</td>\n",
       "      <td>yes</td>\n",
       "      <td>unknown</td>\n",
       "      <td>16</td>\n",
       "      <td>may</td>\n",
       "      <td>658</td>\n",
       "      <td>2</td>\n",
       "      <td>120</td>\n",
       "      <td>0</td>\n",
       "      <td>failure</td>\n",
       "      <td>0</td>\n",
       "    </tr>\n",
       "    <tr>\n",
       "      <th>4</th>\n",
       "      <td>4</td>\n",
       "      <td>48</td>\n",
       "      <td>unemployed</td>\n",
       "      <td>married</td>\n",
       "      <td>primary</td>\n",
       "      <td>no</td>\n",
       "      <td>42005</td>\n",
       "      <td>yes</td>\n",
       "      <td>no</td>\n",
       "      <td>telephone</td>\n",
       "      <td>3</td>\n",
       "      <td>apr</td>\n",
       "      <td>177</td>\n",
       "      <td>1</td>\n",
       "      <td>273</td>\n",
       "      <td>0</td>\n",
       "      <td>unknown</td>\n",
       "      <td>0</td>\n",
       "    </tr>\n",
       "  </tbody>\n",
       "</table>\n",
       "</div>"
      ],
      "text/plain": [
       "   id  age           job  marital  education default  balance housing loan  \\\n",
       "0   0   31      services  married  secondary      no    12294     yes   no   \n",
       "1   1   29  entrepreneur   single   tertiary      no    43027      no   no   \n",
       "2   2   35    management  married   tertiary      no    12252     yes   no   \n",
       "3   3   31    technician  married  secondary      no    99121     yes  yes   \n",
       "4   4   48    unemployed  married    primary      no    42005     yes   no   \n",
       "\n",
       "     contact  day month  duration  campaign  pdays  previous poutcome  y  \n",
       "0   cellular   21   nov       101         3    498         0    other  0  \n",
       "1   cellular   22   aug       158         2    702         0  unknown  1  \n",
       "2   cellular   11   nov       351         1    826         0  failure  0  \n",
       "3    unknown   16   may       658         2    120         0  failure  0  \n",
       "4  telephone    3   apr       177         1    273         0  unknown  0  "
      ]
     },
     "execution_count": 4,
     "metadata": {},
     "output_type": "execute_result"
    }
   ],
   "source": [
    "train_df.head()"
   ]
  },
  {
   "cell_type": "code",
   "execution_count": 5,
   "metadata": {
    "colab": {
     "base_uri": "https://localhost:8080/",
     "height": 283
    },
    "colab_type": "code",
    "executionInfo": {
     "elapsed": 981,
     "status": "ok",
     "timestamp": 1597848022340,
     "user": {
      "displayName": "島田滉己",
      "photoUrl": "",
      "userId": "01974757258960983292"
     },
     "user_tz": -540
    },
    "id": "lRXWlTIEFG_5",
    "outputId": "9a33886f-765c-4192-df41-efd5497f19e3"
   },
   "outputs": [
    {
     "data": {
      "text/plain": [
       "<BarContainer object of 42 artists>"
      ]
     },
     "execution_count": 5,
     "metadata": {},
     "output_type": "execute_result"
    },
    {
     "data": {
      "image/png": "[encoded data removed]",
      "text/plain": [
       "<Figure size 432x288 with 1 Axes>"
      ]
     },
     "metadata": {
      "needs_background": "light"
     },
     "output_type": "display_data"
    }
   ],
   "source": [
    "# それぞれの年齢におけるターゲットの数\n",
    "plt.bar(train_df['age'].value_counts().sort_index().index, train_df['age'].value_counts().sort_index())"
   ]
  },
  {
   "cell_type": "code",
   "execution_count": 176,
   "metadata": {
    "colab": {
     "base_uri": "https://localhost:8080/",
     "height": 1000
    },
    "colab_type": "code",
    "executionInfo": {
     "elapsed": 1312,
     "status": "error",
     "timestamp": 1597852021015,
     "user": {
      "displayName": "島田滉己",
      "photoUrl": "",
      "userId": "01974757258960983292"
     },
     "user_tz": -540
    },
    "id": "iq44Uq6JFG_8",
    "outputId": "f97a7041-cffd-48bb-cfea-5cb07805e482"
   },
   "outputs": [
    {
     "name": "stdout",
     "output_type": "stream",
     "text": [
      "####  0  ~  9\n",
      "#############################\n",
      "\n",
      "\n",
      "####  10  ~  19\n",
      "#############################\n",
      "\n",
      "\n",
      "####  20  ~  29\n",
      "#############################\n",
      "22 1 1.0\n",
      "24 8 1.0\n",
      "25 35 5.0\n",
      "26 10 3.0\n",
      "27 222 13.0\n",
      "28 66 7.0\n",
      "29 1104 190.0\n",
      "num_people is  1446\n",
      "\n",
      "\n",
      "####  30  ~  39\n",
      "#############################\n",
      "30 3226 242.0\n",
      "31 4464 202.0\n",
      "32 2176 210.0\n",
      "33 2318 135.0\n",
      "34 2521 90.00000000000001\n",
      "35 2888 123.00000000000001\n",
      "36 907 31.0\n",
      "37 1368 170.0\n",
      "38 12 0.0\n",
      "39 270 24.0\n",
      "num_people is  20150\n",
      "\n",
      "\n",
      "####  40  ~  49\n",
      "#############################\n",
      "40 333 28.999999999999996\n",
      "41 153 5.0\n",
      "42 307 46.0\n",
      "43 385 22.0\n",
      "44 39 5.0\n",
      "45 252 28.0\n",
      "46 435 53.0\n",
      "47 115 5.0\n",
      "48 675 54.0\n",
      "49 683 76.0\n",
      "num_people is  3377\n",
      "\n",
      "\n",
      "####  50  ~  59\n",
      "#############################\n",
      "50 18 3.0\n",
      "51 279 16.0\n",
      "52 5 1.0\n",
      "53 236 51.0\n",
      "54 4 1.0\n",
      "55 11 3.0\n",
      "56 104 9.0\n",
      "57 573 44.0\n",
      "58 222 49.0\n",
      "59 116 8.0\n",
      "num_people is  1568\n",
      "\n",
      "\n",
      "####  60  ~  69\n",
      "#############################\n",
      "60 546 157.0\n",
      "63 6 0.0\n",
      "num_people is  552\n",
      "\n",
      "\n",
      "####  70  ~  79\n",
      "#############################\n",
      "73 1 0.0\n",
      "77 1 0.0\n",
      "\n",
      "\n",
      "####  80  ~  89\n",
      "#############################\n",
      "\n",
      "\n",
      "####  90  ~  99\n",
      "#############################\n",
      "90 5 0.0\n",
      "\n",
      "\n",
      "####  100  ~  109\n",
      "#############################\n",
      "\n",
      "\n",
      "####  110  ~  119\n",
      "#############################\n",
      "\n",
      "\n"
     ]
    },
    {
     "data": {
      "image/png": "[encoded data removed]",
      "text/plain": [
       "<Figure size 432x288 with 1 Axes>"
      ]
     },
     "metadata": {
      "needs_background": "light"
     },
     "output_type": "display_data"
    },
    {
     "data": {
      "image/png": "[encoded data removed]",
      "text/plain": [
       "<Figure size 432x288 with 1 Axes>"
      ]
     },
     "metadata": {
      "needs_background": "light"
     },
     "output_type": "display_data"
    }
   ],
   "source": [
    "period = range(0, 120, 10)\n",
    "\n",
    "# index : age (pandas Series obj)\n",
    "#print(target_df[\"age\"])\n",
    "# the number of \"y\" in each colmun (numpy Array)\n",
    "#print(np.array(target_df['y']) * np.array(train_df['age'].value_counts().sort_index()))\n",
    "# list of age\n",
    "#print(train_df['age'].value_counts().sort_index().index)\n",
    "\n",
    "list_age = train_df['age'].value_counts().sort_index().index\n",
    "target_df = train_df.groupby(['age'], as_index=False).mean()\n",
    "sum_y = np.array(target_df['y']) * np.array(train_df['age'].value_counts().sort_index())\n",
    "\n",
    "\n",
    "index = 0\n",
    "num_people_list = np.zeros(len(period))\n",
    "prob = np.zeros(len(period))\n",
    "for i, lim_age in enumerate(period):\n",
    "    num_people = 0\n",
    "    print(\"#### \", lim_age, \" ~ \", lim_age+10-1)\n",
    "    print(\"#############################\")\n",
    "    for j, age in enumerate(list_age):\n",
    "        if (age >= lim_age ) and (age < lim_age+10):\n",
    "            print(age, np.array(train_df['age'].value_counts().sort_index())[j], sum_y[j])\n",
    "            num_people += np.array(train_df['age'].value_counts().sort_index())[j]\n",
    "            prob[i] += sum_y[j]\n",
    "            index += 1\n",
    "        else:\n",
    "            if(lim_age+10-1 < age):\n",
    "                break\n",
    "    if (max(list_age) > age) and (num_people != 0):\n",
    "        print(\"num_people is \", num_people)\n",
    "        num_people_list[i] = num_people\n",
    "        prob[i] /= num_people\n",
    "    print(\"\\n\")\n",
    "\n",
    "#num_people_list /= np.sum(num_people_list)    \n",
    "\n",
    "#plt.show()\n",
    "plt.bar(period, num_people_list, width=1)\n",
    "plt.bar(period, prob*num_people_list, width=1)\n",
    "plt.show()\n",
    "\n",
    "plt.bar(period, prob)\n",
    "plt.show()\n"
   ]
  },
  {
   "cell_type": "code",
   "execution_count": 112,
   "metadata": {},
   "outputs": [],
   "source": [
    "# それぞれの年間平均残高におけるターゲットの数\n",
    "tmp = round(train_df['balance'], -1).value_counts().sort_index()"
   ]
  },
  {
   "cell_type": "code",
   "execution_count": 113,
   "metadata": {
    "colab": {
     "base_uri": "https://localhost:8080/",
     "height": 283
    },
    "colab_type": "code",
    "executionInfo": {
     "elapsed": 1485,
     "status": "ok",
     "timestamp": 1597850597734,
     "user": {
      "displayName": "島田滉己",
      "photoUrl": "",
      "userId": "01974757258960983292"
     },
     "user_tz": -540
    },
    "id": "wXs5-C65FG__",
    "outputId": "91854e18-3dd7-4d9a-a3bb-22433ccecb4c"
   },
   "outputs": [
    {
     "data": {
      "image/png": "[encoded data removed]",
      "text/plain": [
       "<Figure size 432x288 with 1 Axes>"
      ]
     },
     "metadata": {
      "needs_background": "light"
     },
     "output_type": "display_data"
    }
   ],
   "source": [
    "plt.bar(tmp.index, tmp)\n",
    "plt.xlim(min(tmp.index), max(tmp.index))\n",
    "plt.ylim(0, max(tmp))\n",
    "plt.show()"
   ]
  },
  {
   "cell_type": "code",
   "execution_count": null,
   "metadata": {},
   "outputs": [],
   "source": []
  },
  {
   "cell_type": "code",
   "execution_count": 186,
   "metadata": {},
   "outputs": [],
   "source": [
    "def relationship(feature):\n",
    "    tmp = balance_list[feature].value_counts().sort_index()\n",
    "    print(tmp.index)\n",
    "    print(feature, \"とキャンペーン参加人数の関係\")\n",
    "    plt.bar(range(len(tmp.index)), np.array(tmp))\n",
    "    plt.bar(np.array(range(len(tmp.index))), np.array(tmp)*np.array(balance_list.groupby([feature], as_index=False).mean()['y']))\n",
    "    plt.show()\n",
    "\n",
    "    print(feature, \"とキャンペーン参加率の関係\")\n",
    "    plt.bar(range(len(tmp.index)), np.array(balance_list.groupby([feature], as_index=False).mean()['y']))\n",
    "    plt.show()"
   ]
  },
  {
   "cell_type": "code",
   "execution_count": 191,
   "metadata": {},
   "outputs": [
    {
     "name": "stdout",
     "output_type": "stream",
     "text": [
      "['id' 'age' 'job' 'marital' 'education' 'default' 'balance' 'housing'\n",
      " 'loan' 'contact' 'day' 'month' 'duration' 'campaign' 'pdays' 'previous'\n",
      " 'poutcome' 'y']\n"
     ]
    }
   ],
   "source": [
    "print(train_df.columns.values)"
   ]
  },
  {
   "cell_type": "code",
   "execution_count": 196,
   "metadata": {},
   "outputs": [
    {
     "name": "stdout",
     "output_type": "stream",
     "text": [
      "Index(['admin.', 'blue-collar', 'entrepreneur', 'housemaid', 'management',\n",
      "       'retired', 'self-employed', 'services', 'student', 'technician',\n",
      "       'unemployed'],\n",
      "      dtype='object')\n",
      "job とキャンペーン参加人数の関係\n"
     ]
    },
    {
     "data": {
      "image/png": "[encoded data removed]",
      "text/plain": [
       "<Figure size 432x288 with 1 Axes>"
      ]
     },
     "metadata": {
      "needs_background": "light"
     },
     "output_type": "display_data"
    },
    {
     "name": "stdout",
     "output_type": "stream",
     "text": [
      "job とキャンペーン参加率の関係\n"
     ]
    },
    {
     "data": {
      "image/png": "[encoded data removed]",
      "text/plain": [
       "<Figure size 432x288 with 1 Axes>"
      ]
     },
     "metadata": {
      "needs_background": "light"
     },
     "output_type": "display_data"
    }
   ],
   "source": [
    "relationship(\"job\")"
   ]
  },
  {
   "cell_type": "code",
   "execution_count": 199,
   "metadata": {},
   "outputs": [
    {
     "name": "stdout",
     "output_type": "stream",
     "text": [
      "Int64Index([22, 24, 25, 26, 27, 28, 29, 30, 31, 32, 33, 34, 35, 36, 37, 38, 39,\n",
      "            40, 41, 42, 43, 44, 45, 46, 47, 48, 49, 50, 51, 52, 53, 54, 55, 56,\n",
      "            57, 58, 59, 60, 63, 73, 77, 90],\n",
      "           dtype='int64')\n",
      "age とキャンペーン参加人数の関係\n"
     ]
    },
    {
     "data": {
      "image/png": "[encoded data removed]",
      "text/plain": [
       "<Figure size 432x288 with 1 Axes>"
      ]
     },
     "metadata": {
      "needs_background": "light"
     },
     "output_type": "display_data"
    },
    {
     "name": "stdout",
     "output_type": "stream",
     "text": [
      "age とキャンペーン参加率の関係\n"
     ]
    },
    {
     "data": {
      "image/png": "[encoded data removed]",
      "text/plain": [
       "<Figure size 432x288 with 1 Axes>"
      ]
     },
     "metadata": {
      "needs_background": "light"
     },
     "output_type": "display_data"
    },
    {
     "name": "stdout",
     "output_type": "stream",
     "text": [
      "Index(['admin.', 'blue-collar', 'entrepreneur', 'housemaid', 'management',\n",
      "       'retired', 'self-employed', 'services', 'student', 'technician',\n",
      "       'unemployed'],\n",
      "      dtype='object')\n",
      "job とキャンペーン参加人数の関係\n"
     ]
    },
    {
     "data": {
      "image/png": "[encoded data removed]",
      "text/plain": [
       "<Figure size 432x288 with 1 Axes>"
      ]
     },
     "metadata": {
      "needs_background": "light"
     },
     "output_type": "display_data"
    },
    {
     "name": "stdout",
     "output_type": "stream",
     "text": [
      "job とキャンペーン参加率の関係\n"
     ]
    },
    {
     "data": {
      "image/png": "[encoded data removed]",
      "text/plain": [
       "<Figure size 432x288 with 1 Axes>"
      ]
     },
     "metadata": {
      "needs_background": "light"
     },
     "output_type": "display_data"
    },
    {
     "name": "stdout",
     "output_type": "stream",
     "text": [
      "Index(['divorced', 'married', 'single'], dtype='object')\n",
      "marital とキャンペーン参加人数の関係\n"
     ]
    },
    {
     "data": {
      "image/png": "[encoded data removed]",
      "text/plain": [
       "<Figure size 432x288 with 1 Axes>"
      ]
     },
     "metadata": {
      "needs_background": "light"
     },
     "output_type": "display_data"
    },
    {
     "name": "stdout",
     "output_type": "stream",
     "text": [
      "marital とキャンペーン参加率の関係\n"
     ]
    },
    {
     "data": {
      "image/png": "[encoded data removed]",
      "text/plain": [
       "<Figure size 432x288 with 1 Axes>"
      ]
     },
     "metadata": {
      "needs_background": "light"
     },
     "output_type": "display_data"
    },
    {
     "name": "stdout",
     "output_type": "stream",
     "text": [
      "Index(['primary', 'secondary', 'tertiary', 'unknown'], dtype='object')\n",
      "education とキャンペーン参加人数の関係\n"
     ]
    },
    {
     "data": {
      "image/png": "[encoded data removed]",
      "text/plain": [
       "<Figure size 432x288 with 1 Axes>"
      ]
     },
     "metadata": {
      "needs_background": "light"
     },
     "output_type": "display_data"
    },
    {
     "name": "stdout",
     "output_type": "stream",
     "text": [
      "education とキャンペーン参加率の関係\n"
     ]
    },
    {
     "data": {
      "image/png": "[encoded data removed]",
      "text/plain": [
       "<Figure size 432x288 with 1 Axes>"
      ]
     },
     "metadata": {
      "needs_background": "light"
     },
     "output_type": "display_data"
    },
    {
     "name": "stdout",
     "output_type": "stream",
     "text": [
      "Index(['no', 'yes'], dtype='object')\n",
      "default とキャンペーン参加人数の関係\n"
     ]
    },
    {
     "data": {
      "image/png": "[encoded data removed]",
      "text/plain": [
       "<Figure size 432x288 with 1 Axes>"
      ]
     },
     "metadata": {
      "needs_background": "light"
     },
     "output_type": "display_data"
    },
    {
     "name": "stdout",
     "output_type": "stream",
     "text": [
      "default とキャンペーン参加率の関係\n"
     ]
    },
    {
     "data": {
      "image/png": "[encoded data removed]",
      "text/plain": [
       "<Figure size 432x288 with 1 Axes>"
      ]
     },
     "metadata": {
      "needs_background": "light"
     },
     "output_type": "display_data"
    },
    {
     "name": "stdout",
     "output_type": "stream",
     "text": [
      "Float64Index([-100.0,    0.0,  100.0,  200.0,  300.0,  400.0,  500.0,  600.0,\n",
      "               700.0,  800.0,  900.0, 1000.0],\n",
      "             dtype='float64')\n",
      "balance とキャンペーン参加人数の関係\n"
     ]
    },
    {
     "data": {
      "image/png": "[encoded data removed]",
      "text/plain": [
       "<Figure size 432x288 with 1 Axes>"
      ]
     },
     "metadata": {
      "needs_background": "light"
     },
     "output_type": "display_data"
    },
    {
     "name": "stdout",
     "output_type": "stream",
     "text": [
      "balance とキャンペーン参加率の関係\n"
     ]
    },
    {
     "data": {
      "image/png": "[encoded data removed]",
      "text/plain": [
       "<Figure size 432x288 with 1 Axes>"
      ]
     },
     "metadata": {
      "needs_background": "light"
     },
     "output_type": "display_data"
    },
    {
     "name": "stdout",
     "output_type": "stream",
     "text": [
      "Index(['no', 'yes'], dtype='object')\n",
      "housing とキャンペーン参加人数の関係\n"
     ]
    },
    {
     "data": {
      "image/png": "[encoded data removed]",
      "text/plain": [
       "<Figure size 432x288 with 1 Axes>"
      ]
     },
     "metadata": {
      "needs_background": "light"
     },
     "output_type": "display_data"
    },
    {
     "name": "stdout",
     "output_type": "stream",
     "text": [
      "housing とキャンペーン参加率の関係\n"
     ]
    },
    {
     "data": {
      "image/png": "[encoded data removed]",
      "text/plain": [
       "<Figure size 432x288 with 1 Axes>"
      ]
     },
     "metadata": {
      "needs_background": "light"
     },
     "output_type": "display_data"
    },
    {
     "name": "stdout",
     "output_type": "stream",
     "text": [
      "Index(['no', 'yes'], dtype='object')\n",
      "loan とキャンペーン参加人数の関係\n"
     ]
    },
    {
     "data": {
      "image/png": "[encoded data removed]",
      "text/plain": [
       "<Figure size 432x288 with 1 Axes>"
      ]
     },
     "metadata": {
      "needs_background": "light"
     },
     "output_type": "display_data"
    },
    {
     "name": "stdout",
     "output_type": "stream",
     "text": [
      "loan とキャンペーン参加率の関係\n"
     ]
    },
    {
     "data": {
      "image/png": "[encoded data removed]",
      "text/plain": [
       "<Figure size 432x288 with 1 Axes>"
      ]
     },
     "metadata": {
      "needs_background": "light"
     },
     "output_type": "display_data"
    },
    {
     "name": "stdout",
     "output_type": "stream",
     "text": [
      "Index(['cellular', 'telephone', 'unknown'], dtype='object')\n",
      "contact とキャンペーン参加人数の関係\n"
     ]
    },
    {
     "data": {
      "image/png": "[encoded data removed]",
      "text/plain": [
       "<Figure size 432x288 with 1 Axes>"
      ]
     },
     "metadata": {
      "needs_background": "light"
     },
     "output_type": "display_data"
    },
    {
     "name": "stdout",
     "output_type": "stream",
     "text": [
      "contact とキャンペーン参加率の関係\n"
     ]
    },
    {
     "data": {
      "image/png": "[encoded data removed]",
      "text/plain": [
       "<Figure size 432x288 with 1 Axes>"
      ]
     },
     "metadata": {
      "needs_background": "light"
     },
     "output_type": "display_data"
    },
    {
     "name": "stdout",
     "output_type": "stream",
     "text": [
      "Int64Index([ 1,  2,  3,  4,  5,  6,  7,  8,  9, 10, 11, 12, 13, 14, 15, 16, 17,\n",
      "            18, 19, 20, 21, 22, 23, 25, 26, 27, 28, 29, 30, 31],\n",
      "           dtype='int64')\n",
      "day とキャンペーン参加人数の関係\n"
     ]
    },
    {
     "data": {
      "image/png": "[encoded data removed]",
      "text/plain": [
       "<Figure size 432x288 with 1 Axes>"
      ]
     },
     "metadata": {
      "needs_background": "light"
     },
     "output_type": "display_data"
    },
    {
     "name": "stdout",
     "output_type": "stream",
     "text": [
      "day とキャンペーン参加率の関係\n"
     ]
    },
    {
     "data": {
      "image/png": "[encoded data removed]",
      "text/plain": [
       "<Figure size 432x288 with 1 Axes>"
      ]
     },
     "metadata": {
      "needs_background": "light"
     },
     "output_type": "display_data"
    },
    {
     "name": "stdout",
     "output_type": "stream",
     "text": [
      "Index(['apr', 'aug', 'feb', 'jan', 'jul', 'jun', 'mar', 'may', 'nov', 'oct',\n",
      "       'sep'],\n",
      "      dtype='object')\n",
      "month とキャンペーン参加人数の関係\n"
     ]
    },
    {
     "data": {
      "image/png": "[encoded data removed]",
      "text/plain": [
       "<Figure size 432x288 with 1 Axes>"
      ]
     },
     "metadata": {
      "needs_background": "light"
     },
     "output_type": "display_data"
    },
    {
     "name": "stdout",
     "output_type": "stream",
     "text": [
      "month とキャンペーン参加率の関係\n"
     ]
    },
    {
     "data": {
      "image/png": "[encoded data removed]",
      "text/plain": [
       "<Figure size 432x288 with 1 Axes>"
      ]
     },
     "metadata": {
      "needs_background": "light"
     },
     "output_type": "display_data"
    },
    {
     "name": "stdout",
     "output_type": "stream",
     "text": [
      "Int64Index([   0,   14,   24,   43,   47,   48,   52,   56,   58,   59,\n",
      "            ...\n",
      "            1133, 1182, 1220, 1319, 1337, 1347, 1388, 1447, 1579, 3076],\n",
      "           dtype='int64', length=140)\n",
      "duration とキャンペーン参加人数の関係\n"
     ]
    },
    {
     "data": {
      "image/png": "[encoded data removed]",
      "text/plain": [
       "<Figure size 432x288 with 1 Axes>"
      ]
     },
     "metadata": {
      "needs_background": "light"
     },
     "output_type": "display_data"
    },
    {
     "name": "stdout",
     "output_type": "stream",
     "text": [
      "duration とキャンペーン参加率の関係\n"
     ]
    },
    {
     "data": {
      "image/png": "[encoded data removed]",
      "text/plain": [
       "<Figure size 432x288 with 1 Axes>"
      ]
     },
     "metadata": {
      "needs_background": "light"
     },
     "output_type": "display_data"
    },
    {
     "name": "stdout",
     "output_type": "stream",
     "text": [
      "Int64Index([1, 2, 3, 4, 5], dtype='int64')\n",
      "campaign とキャンペーン参加人数の関係\n"
     ]
    },
    {
     "data": {
      "image/png": "[encoded data removed]",
      "text/plain": [
       "<Figure size 432x288 with 1 Axes>"
      ]
     },
     "metadata": {
      "needs_background": "light"
     },
     "output_type": "display_data"
    },
    {
     "name": "stdout",
     "output_type": "stream",
     "text": [
      "campaign とキャンペーン参加率の関係\n"
     ]
    },
    {
     "data": {
      "image/png": "[encoded data removed]",
      "text/plain": [
       "<Figure size 432x288 with 1 Axes>"
      ]
     },
     "metadata": {
      "needs_background": "light"
     },
     "output_type": "display_data"
    },
    {
     "name": "stdout",
     "output_type": "stream",
     "text": [
      "Int64Index([ -1,   0,   1,   2,   3,   4,   5,   6,   7,   8,\n",
      "            ...\n",
      "            861, 862, 863, 864, 865, 866, 867, 868, 869, 870],\n",
      "           dtype='int64', length=872)\n",
      "pdays とキャンペーン参加人数の関係\n"
     ]
    },
    {
     "data": {
      "image/png": "[encoded data removed]",
      "text/plain": [
       "<Figure size 432x288 with 1 Axes>"
      ]
     },
     "metadata": {
      "needs_background": "light"
     },
     "output_type": "display_data"
    },
    {
     "name": "stdout",
     "output_type": "stream",
     "text": [
      "pdays とキャンペーン参加率の関係\n"
     ]
    },
    {
     "data": {
      "image/png": "[encoded data removed]",
      "text/plain": [
       "<Figure size 432x288 with 1 Axes>"
      ]
     },
     "metadata": {
      "needs_background": "light"
     },
     "output_type": "display_data"
    },
    {
     "name": "stdout",
     "output_type": "stream",
     "text": [
      "Int64Index([0, 1, 2, 3], dtype='int64')\n",
      "previous とキャンペーン参加人数の関係\n"
     ]
    },
    {
     "data": {
      "image/png": "[encoded data removed]",
      "text/plain": [
       "<Figure size 432x288 with 1 Axes>"
      ]
     },
     "metadata": {
      "needs_background": "light"
     },
     "output_type": "display_data"
    },
    {
     "name": "stdout",
     "output_type": "stream",
     "text": [
      "previous とキャンペーン参加率の関係\n"
     ]
    },
    {
     "data": {
      "image/png": "[encoded data removed]",
      "text/plain": [
       "<Figure size 432x288 with 1 Axes>"
      ]
     },
     "metadata": {
      "needs_background": "light"
     },
     "output_type": "display_data"
    },
    {
     "name": "stdout",
     "output_type": "stream",
     "text": [
      "Index(['failure', 'other', 'success', 'unknown'], dtype='object')\n",
      "poutcome とキャンペーン参加人数の関係\n"
     ]
    },
    {
     "data": {
      "image/png": "[encoded data removed]",
      "text/plain": [
       "<Figure size 432x288 with 1 Axes>"
      ]
     },
     "metadata": {
      "needs_background": "light"
     },
     "output_type": "display_data"
    },
    {
     "name": "stdout",
     "output_type": "stream",
     "text": [
      "poutcome とキャンペーン参加率の関係\n"
     ]
    },
    {
     "data": {
      "image/png": "[encoded data removed]",
      "text/plain": [
       "<Figure size 432x288 with 1 Axes>"
      ]
     },
     "metadata": {
      "needs_background": "light"
     },
     "output_type": "display_data"
    }
   ],
   "source": [
    "f_list = [ 'age', 'job', 'marital', 'education', 'default', 'balance', 'housing','loan',\n",
    "          'contact', 'day', 'month', 'duration', 'campaign', 'pdays', 'previous', 'poutcome' ]\n",
    "for f_name in f_list:\n",
    "    relationship(f_name)"
   ]
  },
  {
   "cell_type": "code",
   "execution_count": null,
   "metadata": {},
   "outputs": [],
   "source": []
  },
  {
   "cell_type": "code",
   "execution_count": null,
   "metadata": {},
   "outputs": [],
   "source": []
  },
  {
   "cell_type": "code",
   "execution_count": null,
   "metadata": {
    "colab": {},
    "colab_type": "code",
    "id": "dYADGbPaFHAG",
    "outputId": "104280ad-1565-44db-f2b7-8a4a72c5b875"
   },
   "outputs": [
    {
     "data": {
      "text/plain": [
       "81"
      ]
     },
     "execution_count": 9,
     "metadata": {
      "tags": []
     },
     "output_type": "execute_result"
    }
   ],
   "source": [
    "all_df = pd.concat([train_df, test_df])\n",
    "del train_df, test_df\n",
    "gc.collect()"
   ]
  },
  {
   "cell_type": "code",
   "execution_count": null,
   "metadata": {
    "colab": {},
    "colab_type": "code",
    "id": "afsTOKnXFHAJ"
   },
   "outputs": [],
   "source": [
    "categorical_features = ['job', 'marital', 'education', 'default', 'housing', 'loan', 'contact', 'month', 'poutcome']\n",
    "for col in categorical_features:\n",
    "    lbl = preprocessing.LabelEncoder()\n",
    "    lbl.fit(all_df[col])\n",
    "    lbl.transform(all_df[col])\n",
    "    all_df[col] = lbl.transform(all_df[col])"
   ]
  },
  {
   "cell_type": "code",
   "execution_count": null,
   "metadata": {
    "colab": {},
    "colab_type": "code",
    "id": "s1ThpewNFHAN"
   },
   "outputs": [],
   "source": [
    "train_df = all_df[all_df['y']!=-999]\n",
    "test_df = all_df[all_df['y']==-999]"
   ]
  },
  {
   "cell_type": "code",
   "execution_count": null,
   "metadata": {
    "colab": {},
    "colab_type": "code",
    "id": "tdr1fYvHFHAQ"
   },
   "outputs": [],
   "source": [
    "y_train = train_df['y']\n",
    "X_train = train_df.drop(['y', 'id'], axis=1)\n",
    "X_test = test_df.drop(['y', 'id'], axis=1)"
   ]
  },
  {
   "cell_type": "code",
   "execution_count": null,
   "metadata": {
    "colab": {},
    "colab_type": "code",
    "id": "S-C8VniTFHAU"
   },
   "outputs": [],
   "source": [
    "X_train, X_valid, y_train, y_valid = train_test_split(X_train, y_train, test_size=0.3, random_state=0, stratify=y_train)"
   ]
  },
  {
   "cell_type": "code",
   "execution_count": null,
   "metadata": {
    "colab": {},
    "colab_type": "code",
    "id": "TgSIFRKWFHAX",
    "outputId": "3894a240-5da3-470f-9981-b36e54755341"
   },
   "outputs": [
    {
     "name": "stdout",
     "output_type": "stream",
     "text": [
      "Training until validation scores don't improve for 10 rounds\n",
      "[10]\ttraining's binary_logloss: 0.209427\tvalid_1's binary_logloss: 0.219289\n",
      "[20]\ttraining's binary_logloss: 0.191038\tvalid_1's binary_logloss: 0.209227\n",
      "[30]\ttraining's binary_logloss: 0.178925\tvalid_1's binary_logloss: 0.204428\n",
      "[40]\ttraining's binary_logloss: 0.169569\tvalid_1's binary_logloss: 0.203095\n",
      "[50]\ttraining's binary_logloss: 0.161995\tvalid_1's binary_logloss: 0.20335\n",
      "Early stopping, best iteration is:\n",
      "[48]\ttraining's binary_logloss: 0.163581\tvalid_1's binary_logloss: 0.203038\n"
     ]
    }
   ],
   "source": [
    "lgb_train = lgb.Dataset(X_train, y_train, categorical_feature=categorical_features)\n",
    "lgb_eval = lgb.Dataset(X_valid, y_valid, reference=lgb_train, categorical_feature=categorical_features)\n",
    "\n",
    "params = {\n",
    "    \"objective\":\"binary\"\n",
    "}\n",
    "\n",
    "model = lgb.train(\n",
    "    params, lgb_train,\n",
    "    valid_sets = [lgb_train, lgb_eval],\n",
    "    verbose_eval = 10,\n",
    "    num_boost_round = 1000,\n",
    "    early_stopping_rounds=10\n",
    ")\n",
    "\n",
    "y_pred = model.predict(X_test, num_iteration=model.best_iteration)"
   ]
  },
  {
   "cell_type": "code",
   "execution_count": null,
   "metadata": {
    "colab": {},
    "colab_type": "code",
    "id": "bRBMQAVIFHAZ",
    "outputId": "a9712776-30b3-4eee-eb8b-f516c55f3bf1"
   },
   "outputs": [
    {
     "data": {
      "text/plain": [
       "array([0.78074173, 0.07075874, 0.02624937, ..., 0.06533223, 0.0072316 ,\n",
       "       0.13983576])"
      ]
     },
     "execution_count": 18,
     "metadata": {
      "tags": []
     },
     "output_type": "execute_result"
    }
   ],
   "source": [
    "y_pred"
   ]
  },
  {
   "cell_type": "code",
   "execution_count": null,
   "metadata": {
    "colab": {},
    "colab_type": "code",
    "id": "wCdhCxniFHAc"
   },
   "outputs": [],
   "source": [
    "submit_df[1] = y_pred"
   ]
  },
  {
   "cell_type": "code",
   "execution_count": null,
   "metadata": {
    "colab": {},
    "colab_type": "code",
    "id": "Ea4k5e_cFHAf"
   },
   "outputs": [],
   "source": [
    "submit_df.to_csv('./submit.csv', index=False, header=None)"
   ]
  },
  {
   "cell_type": "code",
   "execution_count": null,
   "metadata": {
    "colab": {},
    "colab_type": "code",
    "id": "UXIK7Q4sFHAj"
   },
   "outputs": [],
   "source": []
  },
  {
   "cell_type": "code",
   "execution_count": null,
   "metadata": {
    "colab": {},
    "colab_type": "code",
    "id": "V6iV3yodFHAm"
   },
   "outputs": [],
   "source": []
  }
 ],
 "metadata": {
  "colab": {
   "collapsed_sections": [],
   "name": "visualize.ipynb",
   "provenance": []
  },
  "kernelspec": {
   "display_name": "Python 3",
   "language": "python",
   "name": "python3"
  },
  "language_info": {
   "codemirror_mode": {
    "name": "ipython",
    "version": 3
   },
   "file_extension": ".py",
   "mimetype": "text/x-python",
   "name": "python",
   "nbconvert_exporter": "python",
   "pygments_lexer": "ipython3",
   "version": "3.8.3"
  }
 },
 "nbformat": 4,
 "nbformat_minor": 4
}
