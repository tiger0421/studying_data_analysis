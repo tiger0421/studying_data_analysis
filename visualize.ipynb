{
 "cells": [
  {
   "cell_type": "code",
   "execution_count": 1,
   "metadata": {
    "colab": {
     "base_uri": "https://localhost:8080/",
     "height": 128
    },
    "colab_type": "code",
    "executionInfo": {
     "elapsed": 20403,
     "status": "ok",
     "timestamp": 1597846765242,
     "user": {
      "displayName": "島田滉己",
      "photoUrl": "",
      "userId": "01974757258960983292"
     },
     "user_tz": -540
    },
    "id": "tnWcU02qFmQF",
    "outputId": "3aba8b64-f071-4f91-8bfb-1292822640cd"
   },
   "outputs": [
    {
     "ename": "ModuleNotFoundError",
     "evalue": "No module named 'google'",
     "output_type": "error",
     "traceback": [
      "\u001b[1;31m---------------------------------------------------------------------------\u001b[0m",
      "\u001b[1;31mModuleNotFoundError\u001b[0m                       Traceback (most recent call last)",
      "\u001b[1;32m<ipython-input-1-d5df0069828e>\u001b[0m in \u001b[0;36m<module>\u001b[1;34m\u001b[0m\n\u001b[1;32m----> 1\u001b[1;33m \u001b[1;32mfrom\u001b[0m \u001b[0mgoogle\u001b[0m\u001b[1;33m.\u001b[0m\u001b[0mcolab\u001b[0m \u001b[1;32mimport\u001b[0m \u001b[0mdrive\u001b[0m\u001b[1;33m\u001b[0m\u001b[1;33m\u001b[0m\u001b[0m\n\u001b[0m\u001b[0;32m      2\u001b[0m \u001b[0mdrive\u001b[0m\u001b[1;33m.\u001b[0m\u001b[0mmount\u001b[0m\u001b[1;33m(\u001b[0m\u001b[1;34m'/content/drive'\u001b[0m\u001b[1;33m)\u001b[0m\u001b[1;33m\u001b[0m\u001b[1;33m\u001b[0m\u001b[0m\n",
      "\u001b[1;31mModuleNotFoundError\u001b[0m: No module named 'google'"
     ]
    }
   ],
   "source": [
    "from google.colab import drive\n",
    "drive.mount('/content/drive')"
   ]
  },
  {
   "cell_type": "code",
   "execution_count": 2,
   "metadata": {
    "colab": {},
    "colab_type": "code",
    "executionInfo": {
     "elapsed": 813,
     "status": "ok",
     "timestamp": 1597848214308,
     "user": {
      "displayName": "島田滉己",
      "photoUrl": "",
      "userId": "01974757258960983292"
     },
     "user_tz": -540
    },
    "id": "WVRoL4BUFG_n"
   },
   "outputs": [],
   "source": [
    "import pandas as pd\n",
    "import numpy as np\n",
    "import lightgbm as lgb\n",
    "import warnings\n",
    "import gc\n",
    "from sklearn.model_selection import train_test_split\n",
    "from sklearn import preprocessing\n",
    "from sklearn import metrics\n",
    "warnings.simplefilter('ignore')\n",
    "\n",
    "import matplotlib.pyplot as plt\n",
    "%matplotlib inline"
   ]
  },
  {
   "cell_type": "code",
   "execution_count": 3,
   "metadata": {
    "colab": {},
    "colab_type": "code",
    "executionInfo": {
     "elapsed": 3285,
     "status": "ok",
     "timestamp": 1597847387242,
     "user": {
      "displayName": "島田滉己",
      "photoUrl": "",
      "userId": "01974757258960983292"
     },
     "user_tz": -540
    },
    "id": "FYVCWOQgFG_s"
   },
   "outputs": [],
   "source": [
    "train_df = pd.read_csv(\"./train.csv\")\n",
    "test_df = pd.read_csv(\"./test.csv\")\n",
    "submit_df = pd.read_csv(\"./submit_sample.csv\", header=None)\n"
   ]
  },
  {
   "cell_type": "code",
   "execution_count": null,
   "metadata": {},
   "outputs": [],
   "source": [
    "# google colab\n",
    "train_df = pd.read_csv(\"/content/drive/My Drive/Colab Notebooks/signate/train.csv\")\n",
    "test_df = pd.read_csv(\"/content/drive/My Drive/Colab Notebooks/signate/test.csv\")\n",
    "submit_df = pd.read_csv(\"/content/drive/My Drive/Colab Notebooks/signate/submit_sample.csv\", header=None)"
   ]
  },
  {
   "cell_type": "code",
   "execution_count": null,
   "metadata": {},
   "outputs": [],
   "source": []
  },
  {
   "cell_type": "code",
   "execution_count": 4,
   "metadata": {
    "colab": {
     "base_uri": "https://localhost:8080/",
     "height": 35
    },
    "colab_type": "code",
    "executionInfo": {
     "elapsed": 796,
     "status": "ok",
     "timestamp": 1597847392142,
     "user": {
      "displayName": "島田滉己",
      "photoUrl": "",
      "userId": "01974757258960983292"
     },
     "user_tz": -540
    },
    "id": "mZt3hDH8FG_x",
    "outputId": "477dd8d8-da6a-4450-835c-1b8298bd0a13"
   },
   "outputs": [
    {
     "data": {
      "text/plain": [
       "((27100, 18), (18050, 17), (18050, 2))"
      ]
     },
     "execution_count": 4,
     "metadata": {},
     "output_type": "execute_result"
    }
   ],
   "source": [
    "train_df.shape, test_df.shape, submit_df.shape"
   ]
  },
  {
   "cell_type": "code",
   "execution_count": 5,
   "metadata": {
    "colab": {
     "base_uri": "https://localhost:8080/",
     "height": 202
    },
    "colab_type": "code",
    "executionInfo": {
     "elapsed": 1186,
     "status": "ok",
     "timestamp": 1597847397159,
     "user": {
      "displayName": "島田滉己",
      "photoUrl": "",
      "userId": "01974757258960983292"
     },
     "user_tz": -540
    },
    "id": "Dh4b02UNFG_1",
    "outputId": "c6fb4abd-4835-40c0-9608-ecf4a9d8e807"
   },
   "outputs": [
    {
     "data": {
      "text/html": [
       "<div>\n",
       "<style scoped>\n",
       "    .dataframe tbody tr th:only-of-type {\n",
       "        vertical-align: middle;\n",
       "    }\n",
       "\n",
       "    .dataframe tbody tr th {\n",
       "        vertical-align: top;\n",
       "    }\n",
       "\n",
       "    .dataframe thead th {\n",
       "        text-align: right;\n",
       "    }\n",
       "</style>\n",
       "<table border=\"1\" class=\"dataframe\">\n",
       "  <thead>\n",
       "    <tr style=\"text-align: right;\">\n",
       "      <th></th>\n",
       "      <th>id</th>\n",
       "      <th>age</th>\n",
       "      <th>job</th>\n",
       "      <th>marital</th>\n",
       "      <th>education</th>\n",
       "      <th>default</th>\n",
       "      <th>balance</th>\n",
       "      <th>housing</th>\n",
       "      <th>loan</th>\n",
       "      <th>contact</th>\n",
       "      <th>day</th>\n",
       "      <th>month</th>\n",
       "      <th>duration</th>\n",
       "      <th>campaign</th>\n",
       "      <th>pdays</th>\n",
       "      <th>previous</th>\n",
       "      <th>poutcome</th>\n",
       "      <th>y</th>\n",
       "    </tr>\n",
       "  </thead>\n",
       "  <tbody>\n",
       "    <tr>\n",
       "      <th>0</th>\n",
       "      <td>0</td>\n",
       "      <td>31</td>\n",
       "      <td>services</td>\n",
       "      <td>married</td>\n",
       "      <td>secondary</td>\n",
       "      <td>no</td>\n",
       "      <td>12294</td>\n",
       "      <td>yes</td>\n",
       "      <td>no</td>\n",
       "      <td>cellular</td>\n",
       "      <td>21</td>\n",
       "      <td>nov</td>\n",
       "      <td>101</td>\n",
       "      <td>3</td>\n",
       "      <td>498</td>\n",
       "      <td>0</td>\n",
       "      <td>other</td>\n",
       "      <td>0</td>\n",
       "    </tr>\n",
       "    <tr>\n",
       "      <th>1</th>\n",
       "      <td>1</td>\n",
       "      <td>29</td>\n",
       "      <td>entrepreneur</td>\n",
       "      <td>single</td>\n",
       "      <td>tertiary</td>\n",
       "      <td>no</td>\n",
       "      <td>43027</td>\n",
       "      <td>no</td>\n",
       "      <td>no</td>\n",
       "      <td>cellular</td>\n",
       "      <td>22</td>\n",
       "      <td>aug</td>\n",
       "      <td>158</td>\n",
       "      <td>2</td>\n",
       "      <td>702</td>\n",
       "      <td>0</td>\n",
       "      <td>unknown</td>\n",
       "      <td>1</td>\n",
       "    </tr>\n",
       "    <tr>\n",
       "      <th>2</th>\n",
       "      <td>2</td>\n",
       "      <td>35</td>\n",
       "      <td>management</td>\n",
       "      <td>married</td>\n",
       "      <td>tertiary</td>\n",
       "      <td>no</td>\n",
       "      <td>12252</td>\n",
       "      <td>yes</td>\n",
       "      <td>no</td>\n",
       "      <td>cellular</td>\n",
       "      <td>11</td>\n",
       "      <td>nov</td>\n",
       "      <td>351</td>\n",
       "      <td>1</td>\n",
       "      <td>826</td>\n",
       "      <td>0</td>\n",
       "      <td>failure</td>\n",
       "      <td>0</td>\n",
       "    </tr>\n",
       "    <tr>\n",
       "      <th>3</th>\n",
       "      <td>3</td>\n",
       "      <td>31</td>\n",
       "      <td>technician</td>\n",
       "      <td>married</td>\n",
       "      <td>secondary</td>\n",
       "      <td>no</td>\n",
       "      <td>99121</td>\n",
       "      <td>yes</td>\n",
       "      <td>yes</td>\n",
       "      <td>unknown</td>\n",
       "      <td>16</td>\n",
       "      <td>may</td>\n",
       "      <td>658</td>\n",
       "      <td>2</td>\n",
       "      <td>120</td>\n",
       "      <td>0</td>\n",
       "      <td>failure</td>\n",
       "      <td>0</td>\n",
       "    </tr>\n",
       "    <tr>\n",
       "      <th>4</th>\n",
       "      <td>4</td>\n",
       "      <td>48</td>\n",
       "      <td>unemployed</td>\n",
       "      <td>married</td>\n",
       "      <td>primary</td>\n",
       "      <td>no</td>\n",
       "      <td>42005</td>\n",
       "      <td>yes</td>\n",
       "      <td>no</td>\n",
       "      <td>telephone</td>\n",
       "      <td>3</td>\n",
       "      <td>apr</td>\n",
       "      <td>177</td>\n",
       "      <td>1</td>\n",
       "      <td>273</td>\n",
       "      <td>0</td>\n",
       "      <td>unknown</td>\n",
       "      <td>0</td>\n",
       "    </tr>\n",
       "  </tbody>\n",
       "</table>\n",
       "</div>"
      ],
      "text/plain": [
       "   id  age           job  marital  education default  balance housing loan  \\\n",
       "0   0   31      services  married  secondary      no    12294     yes   no   \n",
       "1   1   29  entrepreneur   single   tertiary      no    43027      no   no   \n",
       "2   2   35    management  married   tertiary      no    12252     yes   no   \n",
       "3   3   31    technician  married  secondary      no    99121     yes  yes   \n",
       "4   4   48    unemployed  married    primary      no    42005     yes   no   \n",
       "\n",
       "     contact  day month  duration  campaign  pdays  previous poutcome  y  \n",
       "0   cellular   21   nov       101         3    498         0    other  0  \n",
       "1   cellular   22   aug       158         2    702         0  unknown  1  \n",
       "2   cellular   11   nov       351         1    826         0  failure  0  \n",
       "3    unknown   16   may       658         2    120         0  failure  0  \n",
       "4  telephone    3   apr       177         1    273         0  unknown  0  "
      ]
     },
     "execution_count": 5,
     "metadata": {},
     "output_type": "execute_result"
    }
   ],
   "source": [
    "train_df.head()"
   ]
  },
  {
   "cell_type": "code",
   "execution_count": 6,
   "metadata": {
    "colab": {
     "base_uri": "https://localhost:8080/",
     "height": 283
    },
    "colab_type": "code",
    "executionInfo": {
     "elapsed": 981,
     "status": "ok",
     "timestamp": 1597848022340,
     "user": {
      "displayName": "島田滉己",
      "photoUrl": "",
      "userId": "01974757258960983292"
     },
     "user_tz": -540
    },
    "id": "lRXWlTIEFG_5",
    "outputId": "9a33886f-765c-4192-df41-efd5497f19e3"
   },
   "outputs": [
    {
     "data": {
      "text/plain": [
       "<BarContainer object of 42 artists>"
      ]
     },
     "execution_count": 6,
     "metadata": {},
     "output_type": "execute_result"
    },
    {
     "data": {
      "image/png": "[encoded data removed]",
      "text/plain": [
       "<Figure size 432x288 with 1 Axes>"
      ]
     },
     "metadata": {
      "needs_background": "light"
     },
     "output_type": "display_data"
    }
   ],
   "source": [
    "# それぞれの年齢におけるターゲットの数\n",
    "plt.bar(train_df['age'].value_counts().sort_index().index, train_df['age'].value_counts().sort_index())"
   ]
  },
  {
   "cell_type": "code",
   "execution_count": 7,
   "metadata": {
    "colab": {
     "base_uri": "https://localhost:8080/",
     "height": 1000
    },
    "colab_type": "code",
    "executionInfo": {
     "elapsed": 1312,
     "status": "error",
     "timestamp": 1597852021015,
     "user": {
      "displayName": "島田滉己",
      "photoUrl": "",
      "userId": "01974757258960983292"
     },
     "user_tz": -540
    },
    "id": "iq44Uq6JFG_8",
    "outputId": "f97a7041-cffd-48bb-cfea-5cb07805e482"
   },
   "outputs": [
    {
     "name": "stdout",
     "output_type": "stream",
     "text": [
      "####  0  ~  9\n",
      "#############################\n",
      "\n",
      "\n",
      "####  10  ~  19\n",
      "#############################\n",
      "\n",
      "\n",
      "####  20  ~  29\n",
      "#############################\n",
      "22 1 1.0\n",
      "24 8 1.0\n",
      "25 35 5.0\n",
      "26 10 3.0\n",
      "27 222 13.0\n",
      "28 66 7.0\n",
      "29 1104 190.0\n",
      "num_people is  1446\n",
      "\n",
      "\n",
      "####  30  ~  39\n",
      "#############################\n",
      "30 3226 242.0\n",
      "31 4464 202.0\n",
      "32 2176 210.0\n",
      "33 2318 135.0\n",
      "34 2521 90.00000000000001\n",
      "35 2888 123.00000000000001\n",
      "36 907 31.0\n",
      "37 1368 170.0\n",
      "38 12 0.0\n",
      "39 270 24.0\n",
      "num_people is  20150\n",
      "\n",
      "\n",
      "####  40  ~  49\n",
      "#############################\n",
      "40 333 28.999999999999996\n",
      "41 153 5.0\n",
      "42 307 46.0\n",
      "43 385 22.0\n",
      "44 39 5.0\n",
      "45 252 28.0\n",
      "46 435 53.0\n",
      "47 115 5.0\n",
      "48 675 54.0\n",
      "49 683 76.0\n",
      "num_people is  3377\n",
      "\n",
      "\n",
      "####  50  ~  59\n",
      "#############################\n",
      "50 18 3.0\n",
      "51 279 16.0\n",
      "52 5 1.0\n",
      "53 236 51.0\n",
      "54 4 1.0\n",
      "55 11 3.0\n",
      "56 104 9.0\n",
      "57 573 44.0\n",
      "58 222 49.0\n",
      "59 116 8.0\n",
      "num_people is  1568\n",
      "\n",
      "\n",
      "####  60  ~  69\n",
      "#############################\n",
      "60 546 157.0\n",
      "63 6 0.0\n",
      "num_people is  552\n",
      "\n",
      "\n",
      "####  70  ~  79\n",
      "#############################\n",
      "73 1 0.0\n",
      "77 1 0.0\n",
      "\n",
      "\n",
      "####  80  ~  89\n",
      "#############################\n",
      "\n",
      "\n",
      "####  90  ~  99\n",
      "#############################\n",
      "90 5 0.0\n",
      "\n",
      "\n",
      "####  100  ~  109\n",
      "#############################\n",
      "\n",
      "\n",
      "####  110  ~  119\n",
      "#############################\n",
      "\n",
      "\n"
     ]
    },
    {
     "data": {
      "image/png": "[encoded data removed]",
      "text/plain": [
       "<Figure size 432x288 with 1 Axes>"
      ]
     },
     "metadata": {
      "needs_background": "light"
     },
     "output_type": "display_data"
    },
    {
     "data": {
      "image/png": "[encoded data removed]",
      "text/plain": [
       "<Figure size 432x288 with 1 Axes>"
      ]
     },
     "metadata": {
      "needs_background": "light"
     },
     "output_type": "display_data"
    }
   ],
   "source": [
    "period = range(0, 120, 10)\n",
    "\n",
    "# index : age (pandas Series obj)\n",
    "#print(target_df[\"age\"])\n",
    "# the number of \"y\" in each colmun (numpy Array)\n",
    "#print(np.array(target_df['y']) * np.array(train_df['age'].value_counts().sort_index()))\n",
    "# list of age\n",
    "#print(train_df['age'].value_counts().sort_index().index)\n",
    "\n",
    "list_age = train_df['age'].value_counts().sort_index().index\n",
    "target_df = train_df.groupby(['age'], as_index=False).mean()\n",
    "sum_y = np.array(target_df['y']) * np.array(train_df['age'].value_counts().sort_index())\n",
    "\n",
    "\n",
    "index = 0\n",
    "num_people_list = np.zeros(len(period))\n",
    "prob = np.zeros(len(period))\n",
    "for i, lim_age in enumerate(period):\n",
    "    num_people = 0\n",
    "    print(\"#### \", lim_age, \" ~ \", lim_age+10-1)\n",
    "    print(\"#############################\")\n",
    "    for j, age in enumerate(list_age):\n",
    "        if (age >= lim_age ) and (age < lim_age+10):\n",
    "            print(age, np.array(train_df['age'].value_counts().sort_index())[j], sum_y[j])\n",
    "            num_people += np.array(train_df['age'].value_counts().sort_index())[j]\n",
    "            prob[i] += sum_y[j]\n",
    "            index += 1\n",
    "        else:\n",
    "            if(lim_age+10-1 < age):\n",
    "                break\n",
    "    if (max(list_age) > age) and (num_people != 0):\n",
    "        print(\"num_people is \", num_people)\n",
    "        num_people_list[i] = num_people\n",
    "        prob[i] /= num_people\n",
    "    print(\"\\n\")\n",
    "\n",
    "#num_people_list /= np.sum(num_people_list)    \n",
    "\n",
    "#plt.show()\n",
    "plt.bar(period, num_people_list, width=1)\n",
    "plt.bar(period, prob*num_people_list, width=1)\n",
    "plt.show()\n",
    "\n",
    "plt.bar(period, prob)\n",
    "plt.show()\n"
   ]
  },
  {
   "cell_type": "code",
   "execution_count": 8,
   "metadata": {},
   "outputs": [],
   "source": [
    "# それぞれの年間平均残高におけるターゲットの数\n",
    "tmp = round(train_df['balance'], -1).value_counts().sort_index()"
   ]
  },
  {
   "cell_type": "code",
   "execution_count": 9,
   "metadata": {
    "colab": {
     "base_uri": "https://localhost:8080/",
     "height": 283
    },
    "colab_type": "code",
    "executionInfo": {
     "elapsed": 1485,
     "status": "ok",
     "timestamp": 1597850597734,
     "user": {
      "displayName": "島田滉己",
      "photoUrl": "",
      "userId": "01974757258960983292"
     },
     "user_tz": -540
    },
    "id": "wXs5-C65FG__",
    "outputId": "91854e18-3dd7-4d9a-a3bb-22433ccecb4c"
   },
   "outputs": [
    {
     "data": {
      "image/png": "[encoded data removed]",
      "text/plain": [
       "<Figure size 432x288 with 1 Axes>"
      ]
     },
     "metadata": {
      "needs_background": "light"
     },
     "output_type": "display_data"
    }
   ],
   "source": [
    "plt.bar(tmp.index, tmp)\n",
    "plt.xlim(min(tmp.index), max(tmp.index))\n",
    "plt.ylim(0, max(tmp))\n",
    "plt.show()"
   ]
  },
  {
   "cell_type": "code",
   "execution_count": null,
   "metadata": {},
   "outputs": [],
   "source": []
  },
  {
   "cell_type": "code",
   "execution_count": 13,
   "metadata": {},
   "outputs": [],
   "source": [
    "def relationship(feature):\n",
    "    tmp = train_df[feature].value_counts().sort_index()\n",
    "    print(tmp.index)\n",
    "    print(feature, \"とキャンペーン参加人数の関係\")\n",
    "    plt.bar(range(len(tmp.index)), np.array(tmp))\n",
    "    plt.bar(np.array(range(len(tmp.index))), np.array(tmp)*np.array(train_df.groupby([feature], as_index=False).mean()['y']))\n",
    "    plt.show()\n",
    "\n",
    "    print(feature, \"とキャンペーン参加率の関係\")\n",
    "    plt.bar(range(len(tmp.index)), np.array(train_df.groupby([feature], as_index=False).mean()['y']))\n",
    "    plt.show()"
   ]
  },
  {
   "cell_type": "code",
   "execution_count": 14,
   "metadata": {},
   "outputs": [
    {
     "name": "stdout",
     "output_type": "stream",
     "text": [
      "['id' 'age' 'job' 'marital' 'education' 'default' 'balance' 'housing'\n",
      " 'loan' 'contact' 'day' 'month' 'duration' 'campaign' 'pdays' 'previous'\n",
      " 'poutcome' 'y']\n"
     ]
    }
   ],
   "source": [
    "print(train_df.columns.values)"
   ]
  },
  {
   "cell_type": "code",
   "execution_count": 15,
   "metadata": {},
   "outputs": [
    {
     "name": "stdout",
     "output_type": "stream",
     "text": [
      "Index(['admin.', 'blue-collar', 'entrepreneur', 'housemaid', 'management',\n",
      "       'retired', 'self-employed', 'services', 'student', 'technician',\n",
      "       'unemployed'],\n",
      "      dtype='object')\n",
      "job とキャンペーン参加人数の関係\n"
     ]
    },
    {
     "data": {
      "image/png": "[encoded data removed]",
      "text/plain": [
       "<Figure size 432x288 with 1 Axes>"
      ]
     },
     "metadata": {
      "needs_background": "light"
     },
     "output_type": "display_data"
    },
    {
     "name": "stdout",
     "output_type": "stream",
     "text": [
      "job とキャンペーン参加率の関係\n"
     ]
    },
    {
     "data": {
      "image/png": "[encoded data removed]",
      "text/plain": [
       "<Figure size 432x288 with 1 Axes>"
      ]
     },
     "metadata": {
      "needs_background": "light"
     },
     "output_type": "display_data"
    }
   ],
   "source": [
    "relationship(\"job\")"
   ]
  },
  {
   "cell_type": "code",
   "execution_count": null,
   "metadata": {},
   "outputs": [
    {
     "name": "stdout",
     "output_type": "stream",
     "text": [
      "Int64Index([22, 24, 25, 26, 27, 28, 29, 30, 31, 32, 33, 34, 35, 36, 37, 38, 39,\n",
      "            40, 41, 42, 43, 44, 45, 46, 47, 48, 49, 50, 51, 52, 53, 54, 55, 56,\n",
      "            57, 58, 59, 60, 63, 73, 77, 90],\n",
      "           dtype='int64')\n",
      "age とキャンペーン参加人数の関係\n"
     ]
    },
    {
     "data": {
      "image/png": "[encoded data removed]",
      "text/plain": [
       "<Figure size 432x288 with 1 Axes>"
      ]
     },
     "metadata": {
      "needs_background": "light"
     },
     "output_type": "display_data"
    },
    {
     "name": "stdout",
     "output_type": "stream",
     "text": [
      "age とキャンペーン参加率の関係\n"
     ]
    },
    {
     "data": {
      "image/png": "[encoded data removed]",
      "text/plain": [
       "<Figure size 432x288 with 1 Axes>"
      ]
     },
     "metadata": {
      "needs_background": "light"
     },
     "output_type": "display_data"
    },
    {
     "name": "stdout",
     "output_type": "stream",
     "text": [
      "Index(['admin.', 'blue-collar', 'entrepreneur', 'housemaid', 'management',\n",
      "       'retired', 'self-employed', 'services', 'student', 'technician',\n",
      "       'unemployed'],\n",
      "      dtype='object')\n",
      "job とキャンペーン参加人数の関係\n"
     ]
    },
    {
     "data": {
      "image/png": "[encoded data removed]",
      "text/plain": [
       "<Figure size 432x288 with 1 Axes>"
      ]
     },
     "metadata": {
      "needs_background": "light"
     },
     "output_type": "display_data"
    },
    {
     "name": "stdout",
     "output_type": "stream",
     "text": [
      "job とキャンペーン参加率の関係\n"
     ]
    },
    {
     "data": {
      "image/png": "[encoded data removed]",
      "text/plain": [
       "<Figure size 432x288 with 1 Axes>"
      ]
     },
     "metadata": {
      "needs_background": "light"
     },
     "output_type": "display_data"
    },
    {
     "name": "stdout",
     "output_type": "stream",
     "text": [
      "Index(['divorced', 'married', 'single'], dtype='object')\n",
      "marital とキャンペーン参加人数の関係\n"
     ]
    },
    {
     "data": {
      "image/png": "[encoded data removed]",
      "text/plain": [
       "<Figure size 432x288 with 1 Axes>"
      ]
     },
     "metadata": {
      "needs_background": "light"
     },
     "output_type": "display_data"
    },
    {
     "name": "stdout",
     "output_type": "stream",
     "text": [
      "marital とキャンペーン参加率の関係\n"
     ]
    },
    {
     "data": {
      "image/png": "[encoded data removed]",
      "text/plain": [
       "<Figure size 432x288 with 1 Axes>"
      ]
     },
     "metadata": {
      "needs_background": "light"
     },
     "output_type": "display_data"
    },
    {
     "name": "stdout",
     "output_type": "stream",
     "text": [
      "Index(['primary', 'secondary', 'tertiary', 'unknown'], dtype='object')\n",
      "education とキャンペーン参加人数の関係\n"
     ]
    },
    {
     "data": {
      "image/png": "[encoded data removed]",
      "text/plain": [
       "<Figure size 432x288 with 1 Axes>"
      ]
     },
     "metadata": {
      "needs_background": "light"
     },
     "output_type": "display_data"
    },
    {
     "name": "stdout",
     "output_type": "stream",
     "text": [
      "education とキャンペーン参加率の関係\n"
     ]
    },
    {
     "data": {
      "image/png": "[encoded data removed]",
      "text/plain": [
       "<Figure size 432x288 with 1 Axes>"
      ]
     },
     "metadata": {
      "needs_background": "light"
     },
     "output_type": "display_data"
    },
    {
     "name": "stdout",
     "output_type": "stream",
     "text": [
      "Index(['no', 'yes'], dtype='object')\n",
      "default とキャンペーン参加人数の関係\n"
     ]
    },
    {
     "data": {
      "image/png": "[encoded data removed]",
      "text/plain": [
       "<Figure size 432x288 with 1 Axes>"
      ]
     },
     "metadata": {
      "needs_background": "light"
     },
     "output_type": "display_data"
    },
    {
     "name": "stdout",
     "output_type": "stream",
     "text": [
      "default とキャンペーン参加率の関係\n"
     ]
    },
    {
     "data": {
      "image/png": "[encoded data removed]",
      "text/plain": [
       "<Figure size 432x288 with 1 Axes>"
      ]
     },
     "metadata": {
      "needs_background": "light"
     },
     "output_type": "display_data"
    },
    {
     "name": "stdout",
     "output_type": "stream",
     "text": [
      "Int64Index([ -6847,  -6846,  -6843,  -6841,  -6839,  -6834,  -6824,  -6817,\n",
      "             -6814,  -6806,\n",
      "            ...\n",
      "            102090, 102091, 102100, 102101, 102105, 102110, 102115, 102116,\n",
      "            102117, 102121],\n",
      "           dtype='int64', length=23967)\n",
      "balance とキャンペーン参加人数の関係\n"
     ]
    }
   ],
   "source": [
    "f_list = [ 'age', 'job', 'marital', 'education', 'default', 'balance', 'housing','loan',\n",
    "          'contact', 'day', 'month', 'duration', 'campaign', 'pdays', 'previous', 'poutcome' ]\n",
    "for f_name in f_list:\n",
    "    relationship(f_name)"
   ]
  },
  {
   "cell_type": "code",
   "execution_count": null,
   "metadata": {},
   "outputs": [],
   "source": []
  },
  {
   "cell_type": "code",
   "execution_count": null,
   "metadata": {},
   "outputs": [],
   "source": [
    "# 年齢ごとの職業など可視化"
   ]
  },
  {
   "cell_type": "code",
   "execution_count": null,
   "metadata": {
    "colab": {},
    "colab_type": "code",
    "id": "UXIK7Q4sFHAj"
   },
   "outputs": [],
   "source": [
    "def relationship(feature):\n",
    "    tmp = balance_list[feature].value_counts().sort_index()\n",
    "    print(tmp.index)\n",
    "    print(feature, \"とキャンペーン参加人数の関係\")\n",
    "    plt.bar(range(len(tmp.index)), np.array(tmp))\n",
    "    plt.bar(np.array(range(len(tmp.index))), np.array(tmp)*np.array(balance_list.groupby([feature], as_index=False).mean()['y']))\n",
    "    plt.show()\n",
    "\n",
    "    print(feature, \"とキャンペーン参加率の関係\")\n",
    "    plt.bar(range(len(tmp.index)), np.array(balance_list.groupby([feature], as_index=False).mean()['y']))\n",
    "    plt.show()"
   ]
  },
  {
   "cell_type": "code",
   "execution_count": null,
   "metadata": {
    "colab": {},
    "colab_type": "code",
    "id": "V6iV3yodFHAm"
   },
   "outputs": [],
   "source": []
  },
  {
   "cell_type": "code",
   "execution_count": null,
   "metadata": {},
   "outputs": [],
   "source": []
  }
 ],
 "metadata": {
  "colab": {
   "collapsed_sections": [],
   "name": "visualize.ipynb",
   "provenance": []
  },
  "kernelspec": {
   "display_name": "Python 3",
   "language": "python",
   "name": "python3"
  },
  "language_info": {
   "codemirror_mode": {
    "name": "ipython",
    "version": 3
   },
   "file_extension": ".py",
   "mimetype": "text/x-python",
   "name": "python",
   "nbconvert_exporter": "python",
   "pygments_lexer": "ipython3",
   "version": "3.8.3"
  }
 },
 "nbformat": 4,
 "nbformat_minor": 4
}
