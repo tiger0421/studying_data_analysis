{
 "cells": [
  {
   "cell_type": "code",
   "execution_count": 1,
   "metadata": {},
   "outputs": [],
   "source": [
    "# ライブラリのインポート\n",
    "import numpy as np\n",
    "import pandas as pd\n",
    "import lightgbm as lgb\n",
    "import warnings\n",
    "import gc\n",
    "from sklearn.model_selection import train_test_split\n",
    "from sklearn import preprocessing\n",
    "from sklearn import metrics\n",
    "warnings.simplefilter('ignore')"
   ]
  },
  {
   "cell_type": "code",
   "execution_count": 36,
   "metadata": {},
   "outputs": [],
   "source": [
    "# dataの読み込み\n",
    "train_df = pd.read_csv('./train.csv')\n",
    "test_df = pd.read_csv('./test.csv')\n",
    "submit_df = pd.read_csv('./submit_sample.csv',header=None)"
   ]
  },
  {
   "cell_type": "code",
   "execution_count": 37,
   "metadata": {},
   "outputs": [
    {
     "data": {
      "text/plain": [
       "((27100, 18), (18050, 17), (18050, 2))"
      ]
     },
     "execution_count": 37,
     "metadata": {},
     "output_type": "execute_result"
    }
   ],
   "source": [
    "# データの量の確認\n",
    "train_df.shape,test_df.shape,submit_df.shape"
   ]
  },
  {
   "cell_type": "code",
   "execution_count": 38,
   "metadata": {},
   "outputs": [],
   "source": [
    "# 訓練データ、テストデータがわかるようにダミーの目的変数を代入\n",
    "test_df['y']=-999"
   ]
  },
  {
   "cell_type": "code",
   "execution_count": 39,
   "metadata": {},
   "outputs": [
    {
     "data": {
      "text/plain": [
       "146"
      ]
     },
     "execution_count": 39,
     "metadata": {},
     "output_type": "execute_result"
    }
   ],
   "source": [
    "# 訓練データ、テストデータを結合\n",
    "all_df = pd.concat([train_df,test_df])\n",
    "del train_df,test_df\n",
    "gc.collect()"
   ]
  },
  {
   "cell_type": "code",
   "execution_count": 40,
   "metadata": {},
   "outputs": [],
   "source": [
    "# カテゴリカラムの前処理\n",
    "categorical_features = ['job', 'marital', 'education','default','housing','loan','contact','month','poutcome']\n",
    "for col in categorical_features:\n",
    "    lbl = preprocessing.LabelEncoder()\n",
    "    lbl.fit(all_df[col])\n",
    "    lbl.transform(all_df[col])\n",
    "    all_df[col]=lbl.transform(all_df[col])"
   ]
  },
  {
   "cell_type": "code",
   "execution_count": 41,
   "metadata": {},
   "outputs": [],
   "source": [
    "#fe = ['age', 'marital', 'education', 'housing', 'loan', 'contact' ,'month', 'campaign', 'previous', 'poutcome']\n",
    "#all_df['log_bal'] = np.log(all_df['balance'])\n",
    "#all_df['bal_div_age'] = all_df['balance'] / all_df['age']\n",
    "#all_df['bal_mul_age'] = all_df['balance'] * all_df['age']\n",
    "#all_df['bal_div_age_p3'] = np.power(all_df['bal_div_age'], 3)\n",
    "#sall_df['campaign_p2'] = np.power(all_df['campaign'], 2)\n",
    "all_df['housing_and_loan'] = all_df['housing'] & all_df['loan']\n",
    "all_df['month_q'] = all_df['month'] / 3\n",
    "\n",
    "\n",
    "\n",
    "#all_df.drop(['job', 'balance', 'day', 'duration', 'pdays'], axis=1)\n"
   ]
  },
  {
   "cell_type": "code",
   "execution_count": 68,
   "metadata": {},
   "outputs": [],
   "source": [
    "def link_mean_job():\n",
    "    mean_job_df = all_df.groupby(['job'], as_index=False).mean()\n",
    "    all_df['sub_job_mean'] = 0\n",
    "    for i in range(len(all_df['job'].value_counts())):\n",
    "        tmp = np.array(all_df[(all_df['job'] == i)]['balance']) - np.array(mean_job_df[mean_job_df['job'] == 0]['balance'])\n",
    "        all_df[(all_df['job'] == i)]['sub_job_mean'] = tmp\n",
    "        print(np.sum)\n",
    "        print(\"sub_job___\", np.sum(all_df['sub_job_mean']))"
   ]
  },
  {
   "cell_type": "code",
   "execution_count": 50,
   "metadata": {},
   "outputs": [
    {
     "name": "stdout",
     "output_type": "stream",
     "text": [
      "0    47253.40944\n",
      "Name: balance, dtype: float64\n"
     ]
    }
   ],
   "source": [
    "mean_job_df = all_df.groupby(['job'], as_index=False).mean()\n",
    "print(mean_job_df[mean_job_df['job'] == 0]['balance'])"
   ]
  },
  {
   "cell_type": "code",
   "execution_count": 65,
   "metadata": {},
   "outputs": [
    {
     "data": {
      "text/plain": [
       "12"
      ]
     },
     "execution_count": 65,
     "metadata": {},
     "output_type": "execute_result"
    }
   ],
   "source": [
    "len(all_df['job'].value_counts())"
   ]
  },
  {
   "cell_type": "code",
   "execution_count": 69,
   "metadata": {},
   "outputs": [
    {
     "name": "stdout",
     "output_type": "stream",
     "text": [
      "sub_job___ 0        0\n",
      "1        0\n",
      "2        0\n",
      "3        0\n",
      "4        0\n",
      "        ..\n",
      "18045    0\n",
      "18046    0\n",
      "18047    0\n",
      "18048    0\n",
      "18049    0\n",
      "Name: sub_job_mean, Length: 45150, dtype: int64\n",
      "sub_job___ 0        0\n",
      "1        0\n",
      "2        0\n",
      "3        0\n",
      "4        0\n",
      "        ..\n",
      "18045    0\n",
      "18046    0\n",
      "18047    0\n",
      "18048    0\n",
      "18049    0\n",
      "Name: sub_job_mean, Length: 45150, dtype: int64\n",
      "sub_job___ 0        0\n",
      "1        0\n",
      "2        0\n",
      "3        0\n",
      "4        0\n",
      "        ..\n",
      "18045    0\n",
      "18046    0\n",
      "18047    0\n",
      "18048    0\n",
      "18049    0\n",
      "Name: sub_job_mean, Length: 45150, dtype: int64\n",
      "sub_job___ 0        0\n",
      "1        0\n",
      "2        0\n",
      "3        0\n",
      "4        0\n",
      "        ..\n",
      "18045    0\n",
      "18046    0\n",
      "18047    0\n",
      "18048    0\n",
      "18049    0\n",
      "Name: sub_job_mean, Length: 45150, dtype: int64\n",
      "sub_job___ 0        0\n",
      "1        0\n",
      "2        0\n",
      "3        0\n",
      "4        0\n",
      "        ..\n",
      "18045    0\n",
      "18046    0\n",
      "18047    0\n",
      "18048    0\n",
      "18049    0\n",
      "Name: sub_job_mean, Length: 45150, dtype: int64\n",
      "sub_job___ 0        0\n",
      "1        0\n",
      "2        0\n",
      "3        0\n",
      "4        0\n",
      "        ..\n",
      "18045    0\n",
      "18046    0\n",
      "18047    0\n",
      "18048    0\n",
      "18049    0\n",
      "Name: sub_job_mean, Length: 45150, dtype: int64\n",
      "sub_job___ 0        0\n",
      "1        0\n",
      "2        0\n",
      "3        0\n",
      "4        0\n",
      "        ..\n",
      "18045    0\n",
      "18046    0\n",
      "18047    0\n",
      "18048    0\n",
      "18049    0\n",
      "Name: sub_job_mean, Length: 45150, dtype: int64\n",
      "sub_job___ 0        0\n",
      "1        0\n",
      "2        0\n",
      "3        0\n",
      "4        0\n",
      "        ..\n",
      "18045    0\n",
      "18046    0\n",
      "18047    0\n",
      "18048    0\n",
      "18049    0\n",
      "Name: sub_job_mean, Length: 45150, dtype: int64\n",
      "sub_job___ 0        0\n",
      "1        0\n",
      "2        0\n",
      "3        0\n",
      "4        0\n",
      "        ..\n",
      "18045    0\n",
      "18046    0\n",
      "18047    0\n",
      "18048    0\n",
      "18049    0\n",
      "Name: sub_job_mean, Length: 45150, dtype: int64\n",
      "sub_job___ 0        0\n",
      "1        0\n",
      "2        0\n",
      "3        0\n",
      "4        0\n",
      "        ..\n",
      "18045    0\n",
      "18046    0\n",
      "18047    0\n",
      "18048    0\n",
      "18049    0\n",
      "Name: sub_job_mean, Length: 45150, dtype: int64\n",
      "sub_job___ 0        0\n",
      "1        0\n",
      "2        0\n",
      "3        0\n",
      "4        0\n",
      "        ..\n",
      "18045    0\n",
      "18046    0\n",
      "18047    0\n",
      "18048    0\n",
      "18049    0\n",
      "Name: sub_job_mean, Length: 45150, dtype: int64\n",
      "sub_job___ 0        0\n",
      "1        0\n",
      "2        0\n",
      "3        0\n",
      "4        0\n",
      "        ..\n",
      "18045    0\n",
      "18046    0\n",
      "18047    0\n",
      "18048    0\n",
      "18049    0\n",
      "Name: sub_job_mean, Length: 45150, dtype: int64\n"
     ]
    }
   ],
   "source": [
    "link_mean_job()"
   ]
  },
  {
   "cell_type": "code",
   "execution_count": 55,
   "metadata": {},
   "outputs": [
    {
     "name": "stdout",
     "output_type": "stream",
     "text": [
      "   id  age  job  marital  education  default  balance  housing  loan  contact  \\\n",
      "0   0   31    7        1          1        0    12294        1     0        0   \n",
      "1   1   29    2        2          2        0    43027        0     0        0   \n",
      "2   2   35    4        1          2        0    12252        1     0        0   \n",
      "3   3   31    9        1          1        0    99121        1     1        2   \n",
      "4   4   48   10        1          0        0    42005        1     0        1   \n",
      "\n",
      "   day  month  duration  campaign  pdays  previous  poutcome  y  \\\n",
      "0   21      8       101         3    498         0         1  0   \n",
      "1   22      1       158         2    702         0         3  1   \n",
      "2   11      8       351         1    826         0         0  0   \n",
      "3   16      7       658         2    120         0         0  0   \n",
      "4    3      0       177         1    273         0         3  0   \n",
      "\n",
      "   housing_and_loan   month_q  \n",
      "0                 0  2.666667  \n",
      "1                 0  0.333333  \n",
      "2                 0  2.666667  \n",
      "3                 1  2.333333  \n",
      "4                 0  0.000000  \n"
     ]
    }
   ],
   "source": [
    "print(all_df.head())"
   ]
  },
  {
   "cell_type": "code",
   "execution_count": null,
   "metadata": {},
   "outputs": [],
   "source": []
  },
  {
   "cell_type": "code",
   "execution_count": null,
   "metadata": {},
   "outputs": [],
   "source": [
    "# 訓練データ、テストデータの分割\n",
    "train_df = all_df[all_df['y']!=-999]\n",
    "test_df = all_df[all_df['y']==-999]"
   ]
  },
  {
   "cell_type": "code",
   "execution_count": null,
   "metadata": {},
   "outputs": [],
   "source": [
    "y_train = train_df['y']\n",
    "X_train = train_df.drop(['y','id'], axis=1)\n",
    "X_test = test_df.drop(['y','id'], axis=1)"
   ]
  },
  {
   "cell_type": "code",
   "execution_count": null,
   "metadata": {},
   "outputs": [],
   "source": []
  },
  {
   "cell_type": "code",
   "execution_count": null,
   "metadata": {},
   "outputs": [],
   "source": [
    "from sklearn.model_selection import KFold\n",
    "from sklearn import metrics\n",
    "\n",
    "\n",
    "y_preds = []\n",
    "models = []\n",
    "oof_train = np.zeros((len(X_train),))\n",
    "cv = KFold(n_splits=5, shuffle=True, random_state=0)\n",
    "\n",
    "\n",
    "params = {\n",
    "    'objective': 'binary',\n",
    "    'max_bin': 300,\n",
    "    'learning_rate': 0.05,\n",
    "    'num_leaves': 40\n",
    "}\n",
    "\n",
    "for fold_id, (train_index, valid_index) in enumerate(cv.split(X_train)):\n",
    "    X_tr = X_train.loc[train_index, :]\n",
    "    X_val = X_train.loc[valid_index, :]\n",
    "    y_tr = y_train[train_index]\n",
    "    y_val = y_train[valid_index]\n",
    "\n",
    "    lgb_train = lgb.Dataset(X_tr, y_tr, categorical_feature=categorical_features)\n",
    "    lgb_eval = lgb.Dataset(X_val, y_val, reference=lgb_train, categorical_feature=categorical_features)\n",
    "\n",
    "    model = lgb.train(\n",
    "        params, lgb_train,\n",
    "        valid_sets=[lgb_train, lgb_eval],\n",
    "        verbose_eval=10,\n",
    "        num_boost_round=1000,\n",
    "        early_stopping_rounds=10\n",
    "    )\n",
    "\n",
    "    oof_train[valid_index] = model.predict(X_val, num_iteration=model.best_iteration)\n",
    "    y_pred = model.predict(X_test, num_iteration=model.best_iteration)\n",
    "\n",
    "    y_preds.append(y_pred)\n",
    "    models.append(model)\n",
    "    \n",
    "    # eval\n",
    "    #acc = accuracy_score(y_val, y_pred)\n",
    "    fpr, tpr, thresholds = metrics.roc_curve(y_val, oof_train[valid_index])\n",
    "    auc = metrics.auc(fpr, tpr)\n",
    "    print('auc ', auc)"
   ]
  },
  {
   "cell_type": "code",
   "execution_count": null,
   "metadata": {},
   "outputs": [],
   "source": [
    "pd.DataFrame(oof_train).to_csv('oof_train_kfold.csv', index=False)\n",
    "\n",
    "scores = [\n",
    "    m.best_score['valid_1']['binary_logloss'] for m in models\n",
    "]\n",
    "score = sum(scores) / len(scores)\n",
    "print('===CV scores===')\n",
    "print(scores)\n",
    "print(score)"
   ]
  },
  {
   "cell_type": "code",
   "execution_count": null,
   "metadata": {},
   "outputs": [],
   "source": [
    "from sklearn.metrics import accuracy_score\n",
    "\n",
    "\n",
    "y_pred_oof = (oof_train > 0.5).astype(int)\n",
    "accuracy_score(y_train, y_pred_oof)"
   ]
  },
  {
   "cell_type": "code",
   "execution_count": null,
   "metadata": {},
   "outputs": [],
   "source": [
    "fpr, tpr, thresholds = metrics.roc_curve(y_train, oof_train)\n",
    "metrics.auc(fpr, tpr)\n",
    "\n",
    "# baseline is 0.8512576188085433\n",
    "# 0.8517739935623644"
   ]
  },
  {
   "cell_type": "code",
   "execution_count": null,
   "metadata": {},
   "outputs": [],
   "source": [
    "from sklearn.metrics import confusion_matrix\n",
    "\n",
    "\n",
    "cm = confusion_matrix(y_train, y_pred_oof)"
   ]
  },
  {
   "cell_type": "code",
   "execution_count": null,
   "metadata": {},
   "outputs": [],
   "source": [
    "cm"
   ]
  },
  {
   "cell_type": "code",
   "execution_count": null,
   "metadata": {},
   "outputs": [],
   "source": []
  },
  {
   "cell_type": "code",
   "execution_count": null,
   "metadata": {},
   "outputs": [],
   "source": []
  },
  {
   "cell_type": "markdown",
   "metadata": {},
   "source": [
    "## Reference\n",
    "- CV\n",
    "    - https://www.kaggle.com/sishihara/upura-kaggle-tutorial-06-validation\n",
    "- Metric\n",
    "    - https://scikit-learn.org/stable/modules/generated/sklearn.metrics.auc.html#sklearn.metrics.auc"
   ]
  },
  {
   "cell_type": "code",
   "execution_count": null,
   "metadata": {},
   "outputs": [],
   "source": []
  },
  {
   "cell_type": "code",
   "execution_count": null,
   "metadata": {},
   "outputs": [],
   "source": []
  },
  {
   "cell_type": "code",
   "execution_count": null,
   "metadata": {},
   "outputs": [],
   "source": []
  },
  {
   "cell_type": "code",
   "execution_count": null,
   "metadata": {},
   "outputs": [],
   "source": []
  },
  {
   "cell_type": "code",
   "execution_count": null,
   "metadata": {},
   "outputs": [],
   "source": []
  }
 ],
 "metadata": {
  "kernelspec": {
   "display_name": "Python 3",
   "language": "python",
   "name": "python3"
  },
  "language_info": {
   "codemirror_mode": {
    "name": "ipython",
    "version": 3
   },
   "file_extension": ".py",
   "mimetype": "text/x-python",
   "name": "python",
   "nbconvert_exporter": "python",
   "pygments_lexer": "ipython3",
   "version": "3.8.3"
  }
 },
 "nbformat": 4,
 "nbformat_minor": 4
}
