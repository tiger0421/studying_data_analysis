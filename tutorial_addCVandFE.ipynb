{
 "cells": [
  {
   "cell_type": "code",
   "execution_count": 1,
   "metadata": {},
   "outputs": [],
   "source": [
    "# ライブラリのインポート\n",
    "import numpy as np\n",
    "import pandas as pd\n",
    "import lightgbm as lgb\n",
    "import warnings\n",
    "import gc\n",
    "from sklearn.model_selection import train_test_split\n",
    "from sklearn import preprocessing\n",
    "from sklearn import metrics\n",
    "warnings.simplefilter('ignore')"
   ]
  },
  {
   "cell_type": "code",
   "execution_count": 2,
   "metadata": {},
   "outputs": [],
   "source": [
    "# dataの読み込み\n",
    "train_df = pd.read_csv('./train.csv')\n",
    "test_df = pd.read_csv('./test.csv')\n",
    "submit_df = pd.read_csv('./submit_sample.csv',header=None)"
   ]
  },
  {
   "cell_type": "code",
   "execution_count": 3,
   "metadata": {},
   "outputs": [
    {
     "data": {
      "text/plain": [
       "((27100, 18), (18050, 17), (18050, 2))"
      ]
     },
     "execution_count": 3,
     "metadata": {},
     "output_type": "execute_result"
    }
   ],
   "source": [
    "# データの量の確認\n",
    "train_df.shape,test_df.shape,submit_df.shape"
   ]
  },
  {
   "cell_type": "code",
   "execution_count": 4,
   "metadata": {},
   "outputs": [],
   "source": [
    "# 訓練データ、テストデータがわかるようにダミーの目的変数を代入\n",
    "test_df['y']=-999"
   ]
  },
  {
   "cell_type": "code",
   "execution_count": 5,
   "metadata": {},
   "outputs": [
    {
     "data": {
      "text/plain": [
       "44"
      ]
     },
     "execution_count": 5,
     "metadata": {},
     "output_type": "execute_result"
    }
   ],
   "source": [
    "# 訓練データ、テストデータを結合\n",
    "all_df = pd.concat([train_df,test_df])\n",
    "del train_df,test_df\n",
    "gc.collect()"
   ]
  },
  {
   "cell_type": "code",
   "execution_count": null,
   "metadata": {},
   "outputs": [],
   "source": []
  },
  {
   "cell_type": "code",
   "execution_count": 6,
   "metadata": {},
   "outputs": [],
   "source": [
    "# カテゴリカラムの前処理\n",
    "categorical_features = ['job', 'marital', 'education','default','housing','loan','contact','month','poutcome']\n",
    "for col in categorical_features:\n",
    "    lbl = preprocessing.LabelEncoder()\n",
    "    lbl.fit(all_df[col])\n",
    "    lbl.transform(all_df[col])\n",
    "    all_df[col]=lbl.transform(all_df[col])"
   ]
  },
  {
   "cell_type": "code",
   "execution_count": null,
   "metadata": {},
   "outputs": [],
   "source": []
  },
  {
   "cell_type": "code",
   "execution_count": 7,
   "metadata": {},
   "outputs": [
    {
     "data": {
      "text/html": [
       "<div>\n",
       "<style scoped>\n",
       "    .dataframe tbody tr th:only-of-type {\n",
       "        vertical-align: middle;\n",
       "    }\n",
       "\n",
       "    .dataframe tbody tr th {\n",
       "        vertical-align: top;\n",
       "    }\n",
       "\n",
       "    .dataframe thead th {\n",
       "        text-align: right;\n",
       "    }\n",
       "</style>\n",
       "<table border=\"1\" class=\"dataframe\">\n",
       "  <thead>\n",
       "    <tr style=\"text-align: right;\">\n",
       "      <th></th>\n",
       "      <th>id</th>\n",
       "      <th>age</th>\n",
       "      <th>marital</th>\n",
       "      <th>education</th>\n",
       "      <th>default</th>\n",
       "      <th>housing</th>\n",
       "      <th>loan</th>\n",
       "      <th>contact</th>\n",
       "      <th>month</th>\n",
       "      <th>campaign</th>\n",
       "      <th>previous</th>\n",
       "      <th>poutcome</th>\n",
       "      <th>y</th>\n",
       "      <th>housing_and_loan</th>\n",
       "      <th>month_q</th>\n",
       "    </tr>\n",
       "  </thead>\n",
       "  <tbody>\n",
       "    <tr>\n",
       "      <th>0</th>\n",
       "      <td>0</td>\n",
       "      <td>0.344444</td>\n",
       "      <td>1</td>\n",
       "      <td>1</td>\n",
       "      <td>0</td>\n",
       "      <td>1</td>\n",
       "      <td>0</td>\n",
       "      <td>0</td>\n",
       "      <td>8</td>\n",
       "      <td>3</td>\n",
       "      <td>0</td>\n",
       "      <td>1</td>\n",
       "      <td>0</td>\n",
       "      <td>0</td>\n",
       "      <td>2.666667</td>\n",
       "    </tr>\n",
       "    <tr>\n",
       "      <th>1</th>\n",
       "      <td>1</td>\n",
       "      <td>0.322222</td>\n",
       "      <td>2</td>\n",
       "      <td>2</td>\n",
       "      <td>0</td>\n",
       "      <td>0</td>\n",
       "      <td>0</td>\n",
       "      <td>0</td>\n",
       "      <td>1</td>\n",
       "      <td>2</td>\n",
       "      <td>0</td>\n",
       "      <td>3</td>\n",
       "      <td>1</td>\n",
       "      <td>0</td>\n",
       "      <td>0.333333</td>\n",
       "    </tr>\n",
       "    <tr>\n",
       "      <th>2</th>\n",
       "      <td>2</td>\n",
       "      <td>0.388889</td>\n",
       "      <td>1</td>\n",
       "      <td>2</td>\n",
       "      <td>0</td>\n",
       "      <td>1</td>\n",
       "      <td>0</td>\n",
       "      <td>0</td>\n",
       "      <td>8</td>\n",
       "      <td>1</td>\n",
       "      <td>0</td>\n",
       "      <td>0</td>\n",
       "      <td>0</td>\n",
       "      <td>0</td>\n",
       "      <td>2.666667</td>\n",
       "    </tr>\n",
       "    <tr>\n",
       "      <th>3</th>\n",
       "      <td>3</td>\n",
       "      <td>0.344444</td>\n",
       "      <td>1</td>\n",
       "      <td>1</td>\n",
       "      <td>0</td>\n",
       "      <td>1</td>\n",
       "      <td>1</td>\n",
       "      <td>2</td>\n",
       "      <td>7</td>\n",
       "      <td>2</td>\n",
       "      <td>0</td>\n",
       "      <td>0</td>\n",
       "      <td>0</td>\n",
       "      <td>1</td>\n",
       "      <td>2.333333</td>\n",
       "    </tr>\n",
       "    <tr>\n",
       "      <th>4</th>\n",
       "      <td>4</td>\n",
       "      <td>0.533333</td>\n",
       "      <td>1</td>\n",
       "      <td>0</td>\n",
       "      <td>0</td>\n",
       "      <td>1</td>\n",
       "      <td>0</td>\n",
       "      <td>1</td>\n",
       "      <td>0</td>\n",
       "      <td>1</td>\n",
       "      <td>0</td>\n",
       "      <td>3</td>\n",
       "      <td>0</td>\n",
       "      <td>0</td>\n",
       "      <td>0.000000</td>\n",
       "    </tr>\n",
       "    <tr>\n",
       "      <th>...</th>\n",
       "      <td>...</td>\n",
       "      <td>...</td>\n",
       "      <td>...</td>\n",
       "      <td>...</td>\n",
       "      <td>...</td>\n",
       "      <td>...</td>\n",
       "      <td>...</td>\n",
       "      <td>...</td>\n",
       "      <td>...</td>\n",
       "      <td>...</td>\n",
       "      <td>...</td>\n",
       "      <td>...</td>\n",
       "      <td>...</td>\n",
       "      <td>...</td>\n",
       "      <td>...</td>\n",
       "    </tr>\n",
       "    <tr>\n",
       "      <th>18045</th>\n",
       "      <td>18045</td>\n",
       "      <td>0.544444</td>\n",
       "      <td>1</td>\n",
       "      <td>2</td>\n",
       "      <td>0</td>\n",
       "      <td>1</td>\n",
       "      <td>0</td>\n",
       "      <td>0</td>\n",
       "      <td>4</td>\n",
       "      <td>2</td>\n",
       "      <td>0</td>\n",
       "      <td>0</td>\n",
       "      <td>-999</td>\n",
       "      <td>0</td>\n",
       "      <td>1.333333</td>\n",
       "    </tr>\n",
       "    <tr>\n",
       "      <th>18046</th>\n",
       "      <td>18046</td>\n",
       "      <td>0.377778</td>\n",
       "      <td>1</td>\n",
       "      <td>1</td>\n",
       "      <td>0</td>\n",
       "      <td>1</td>\n",
       "      <td>0</td>\n",
       "      <td>0</td>\n",
       "      <td>7</td>\n",
       "      <td>1</td>\n",
       "      <td>0</td>\n",
       "      <td>3</td>\n",
       "      <td>-999</td>\n",
       "      <td>0</td>\n",
       "      <td>2.333333</td>\n",
       "    </tr>\n",
       "    <tr>\n",
       "      <th>18047</th>\n",
       "      <td>18047</td>\n",
       "      <td>0.377778</td>\n",
       "      <td>2</td>\n",
       "      <td>1</td>\n",
       "      <td>0</td>\n",
       "      <td>1</td>\n",
       "      <td>0</td>\n",
       "      <td>2</td>\n",
       "      <td>7</td>\n",
       "      <td>2</td>\n",
       "      <td>0</td>\n",
       "      <td>3</td>\n",
       "      <td>-999</td>\n",
       "      <td>0</td>\n",
       "      <td>2.333333</td>\n",
       "    </tr>\n",
       "    <tr>\n",
       "      <th>18048</th>\n",
       "      <td>18048</td>\n",
       "      <td>0.344444</td>\n",
       "      <td>2</td>\n",
       "      <td>1</td>\n",
       "      <td>0</td>\n",
       "      <td>1</td>\n",
       "      <td>0</td>\n",
       "      <td>2</td>\n",
       "      <td>7</td>\n",
       "      <td>2</td>\n",
       "      <td>0</td>\n",
       "      <td>3</td>\n",
       "      <td>-999</td>\n",
       "      <td>0</td>\n",
       "      <td>2.333333</td>\n",
       "    </tr>\n",
       "    <tr>\n",
       "      <th>18049</th>\n",
       "      <td>18049</td>\n",
       "      <td>0.333333</td>\n",
       "      <td>1</td>\n",
       "      <td>0</td>\n",
       "      <td>0</td>\n",
       "      <td>0</td>\n",
       "      <td>0</td>\n",
       "      <td>0</td>\n",
       "      <td>1</td>\n",
       "      <td>1</td>\n",
       "      <td>0</td>\n",
       "      <td>3</td>\n",
       "      <td>-999</td>\n",
       "      <td>0</td>\n",
       "      <td>0.333333</td>\n",
       "    </tr>\n",
       "  </tbody>\n",
       "</table>\n",
       "<p>45150 rows × 15 columns</p>\n",
       "</div>"
      ],
      "text/plain": [
       "          id       age  marital  education  default  housing  loan  contact  \\\n",
       "0          0  0.344444        1          1        0        1     0        0   \n",
       "1          1  0.322222        2          2        0        0     0        0   \n",
       "2          2  0.388889        1          2        0        1     0        0   \n",
       "3          3  0.344444        1          1        0        1     1        2   \n",
       "4          4  0.533333        1          0        0        1     0        1   \n",
       "...      ...       ...      ...        ...      ...      ...   ...      ...   \n",
       "18045  18045  0.544444        1          2        0        1     0        0   \n",
       "18046  18046  0.377778        1          1        0        1     0        0   \n",
       "18047  18047  0.377778        2          1        0        1     0        2   \n",
       "18048  18048  0.344444        2          1        0        1     0        2   \n",
       "18049  18049  0.333333        1          0        0        0     0        0   \n",
       "\n",
       "       month  campaign  previous  poutcome    y  housing_and_loan   month_q  \n",
       "0          8         3         0         1    0                 0  2.666667  \n",
       "1          1         2         0         3    1                 0  0.333333  \n",
       "2          8         1         0         0    0                 0  2.666667  \n",
       "3          7         2         0         0    0                 1  2.333333  \n",
       "4          0         1         0         3    0                 0  0.000000  \n",
       "...      ...       ...       ...       ...  ...               ...       ...  \n",
       "18045      4         2         0         0 -999                 0  1.333333  \n",
       "18046      7         1         0         3 -999                 0  2.333333  \n",
       "18047      7         2         0         3 -999                 0  2.333333  \n",
       "18048      7         2         0         3 -999                 0  2.333333  \n",
       "18049      1         1         0         3 -999                 0  0.333333  \n",
       "\n",
       "[45150 rows x 15 columns]"
      ]
     },
     "execution_count": 7,
     "metadata": {},
     "output_type": "execute_result"
    }
   ],
   "source": [
    "#fe = ['age', 'marital', 'education', 'housing', 'loan', 'contact' ,'month', 'campaign', 'previous', 'poutcome']\n",
    "#all_df['log_bal'] = np.log(all_df['balance'])\n",
    "#all_df['bal_div_age'] = all_df['balance'] / all_df['age']\n",
    "#all_df['bal_mul_age'] = all_df['balance'] * all_df['age']\n",
    "#all_df['bal_div_age_p3'] = np.power(all_df['bal_div_age'], 3)\n",
    "#sall_df['campaign_p2'] = np.power(all_df['campaign'], 2)\n",
    "all_df['housing_and_loan'] = all_df['housing'] & all_df['loan']\n",
    "all_df['month_q'] = all_df['month'] / 3\n",
    "\n",
    "\n",
    "\n",
    "all_df.drop(['job', 'balance', 'day', 'duration', 'pdays'], axis=1)\n"
   ]
  },
  {
   "cell_type": "code",
   "execution_count": null,
   "metadata": {},
   "outputs": [],
   "source": []
  },
  {
   "cell_type": "code",
   "execution_count": 8,
   "metadata": {},
   "outputs": [],
   "source": [
    "# 訓練データ、テストデータの分割\n",
    "train_df = all_df[all_df['y']!=-999]\n",
    "test_df = all_df[all_df['y']==-999]"
   ]
  },
  {
   "cell_type": "code",
   "execution_count": 9,
   "metadata": {},
   "outputs": [],
   "source": [
    "y_train = train_df['y']\n",
    "X_train = train_df.drop(['y','id'], axis=1)\n",
    "X_test = test_df.drop(['y','id'], axis=1)"
   ]
  },
  {
   "cell_type": "code",
   "execution_count": null,
   "metadata": {},
   "outputs": [],
   "source": []
  },
  {
   "cell_type": "code",
   "execution_count": 10,
   "metadata": {},
   "outputs": [
    {
     "name": "stdout",
     "output_type": "stream",
     "text": [
      "Training until validation scores don't improve for 10 rounds\n",
      "[10]\ttraining's binary_logloss: 0.228781\tvalid_1's binary_logloss: 0.215695\n",
      "[20]\ttraining's binary_logloss: 0.211043\tvalid_1's binary_logloss: 0.20317\n",
      "[30]\ttraining's binary_logloss: 0.200048\tvalid_1's binary_logloss: 0.19692\n",
      "[40]\ttraining's binary_logloss: 0.19163\tvalid_1's binary_logloss: 0.193064\n",
      "[50]\ttraining's binary_logloss: 0.184426\tvalid_1's binary_logloss: 0.190314\n",
      "[60]\ttraining's binary_logloss: 0.178445\tvalid_1's binary_logloss: 0.188777\n",
      "[70]\ttraining's binary_logloss: 0.172856\tvalid_1's binary_logloss: 0.187531\n",
      "[80]\ttraining's binary_logloss: 0.168055\tvalid_1's binary_logloss: 0.186941\n",
      "[90]\ttraining's binary_logloss: 0.163621\tvalid_1's binary_logloss: 0.18627\n",
      "[100]\ttraining's binary_logloss: 0.159368\tvalid_1's binary_logloss: 0.185428\n",
      "[110]\ttraining's binary_logloss: 0.15574\tvalid_1's binary_logloss: 0.185258\n",
      "[120]\ttraining's binary_logloss: 0.152098\tvalid_1's binary_logloss: 0.185056\n",
      "[130]\ttraining's binary_logloss: 0.148674\tvalid_1's binary_logloss: 0.184891\n",
      "Early stopping, best iteration is:\n",
      "[124]\ttraining's binary_logloss: 0.150713\tvalid_1's binary_logloss: 0.184798\n",
      "auc  0.8656614126469917\n",
      "Training until validation scores don't improve for 10 rounds\n",
      "[10]\ttraining's binary_logloss: 0.22309\tvalid_1's binary_logloss: 0.237799\n",
      "[20]\ttraining's binary_logloss: 0.205144\tvalid_1's binary_logloss: 0.225296\n",
      "[30]\ttraining's binary_logloss: 0.194211\tvalid_1's binary_logloss: 0.219319\n",
      "[40]\ttraining's binary_logloss: 0.185539\tvalid_1's binary_logloss: 0.215323\n",
      "[50]\ttraining's binary_logloss: 0.178791\tvalid_1's binary_logloss: 0.212851\n",
      "[60]\ttraining's binary_logloss: 0.172767\tvalid_1's binary_logloss: 0.211164\n",
      "[70]\ttraining's binary_logloss: 0.167372\tvalid_1's binary_logloss: 0.210066\n",
      "[80]\ttraining's binary_logloss: 0.162491\tvalid_1's binary_logloss: 0.209381\n",
      "[90]\ttraining's binary_logloss: 0.158282\tvalid_1's binary_logloss: 0.209234\n",
      "[100]\ttraining's binary_logloss: 0.154261\tvalid_1's binary_logloss: 0.209101\n",
      "[110]\ttraining's binary_logloss: 0.150663\tvalid_1's binary_logloss: 0.209234\n",
      "Early stopping, best iteration is:\n",
      "[106]\ttraining's binary_logloss: 0.152082\tvalid_1's binary_logloss: 0.20905\n",
      "auc  0.8394756683844637\n",
      "Training until validation scores don't improve for 10 rounds\n",
      "[10]\ttraining's binary_logloss: 0.22374\tvalid_1's binary_logloss: 0.235708\n",
      "[20]\ttraining's binary_logloss: 0.205895\tvalid_1's binary_logloss: 0.223045\n",
      "[30]\ttraining's binary_logloss: 0.194852\tvalid_1's binary_logloss: 0.217091\n",
      "[40]\ttraining's binary_logloss: 0.186075\tvalid_1's binary_logloss: 0.212877\n",
      "[50]\ttraining's binary_logloss: 0.178962\tvalid_1's binary_logloss: 0.210669\n",
      "[60]\ttraining's binary_logloss: 0.172926\tvalid_1's binary_logloss: 0.209362\n",
      "[70]\ttraining's binary_logloss: 0.167615\tvalid_1's binary_logloss: 0.208334\n",
      "[80]\ttraining's binary_logloss: 0.16276\tvalid_1's binary_logloss: 0.207248\n",
      "[90]\ttraining's binary_logloss: 0.158519\tvalid_1's binary_logloss: 0.207213\n",
      "Early stopping, best iteration is:\n",
      "[86]\ttraining's binary_logloss: 0.160213\tvalid_1's binary_logloss: 0.207162\n",
      "auc  0.8363485838779957\n",
      "Training until validation scores don't improve for 10 rounds\n",
      "[10]\ttraining's binary_logloss: 0.224424\tvalid_1's binary_logloss: 0.233234\n",
      "[20]\ttraining's binary_logloss: 0.20692\tvalid_1's binary_logloss: 0.219552\n",
      "[30]\ttraining's binary_logloss: 0.196088\tvalid_1's binary_logloss: 0.211941\n",
      "[40]\ttraining's binary_logloss: 0.187476\tvalid_1's binary_logloss: 0.207301\n",
      "[50]\ttraining's binary_logloss: 0.180653\tvalid_1's binary_logloss: 0.204645\n",
      "[60]\ttraining's binary_logloss: 0.174759\tvalid_1's binary_logloss: 0.203121\n",
      "[70]\ttraining's binary_logloss: 0.169534\tvalid_1's binary_logloss: 0.201987\n",
      "[80]\ttraining's binary_logloss: 0.164722\tvalid_1's binary_logloss: 0.201079\n",
      "[90]\ttraining's binary_logloss: 0.160501\tvalid_1's binary_logloss: 0.200569\n",
      "[100]\ttraining's binary_logloss: 0.156765\tvalid_1's binary_logloss: 0.200211\n",
      "[110]\ttraining's binary_logloss: 0.153017\tvalid_1's binary_logloss: 0.200078\n",
      "[120]\ttraining's binary_logloss: 0.149346\tvalid_1's binary_logloss: 0.200048\n",
      "[130]\ttraining's binary_logloss: 0.146107\tvalid_1's binary_logloss: 0.200006\n",
      "Early stopping, best iteration is:\n",
      "[124]\ttraining's binary_logloss: 0.148051\tvalid_1's binary_logloss: 0.199893\n",
      "auc  0.8575777135666682\n",
      "Training until validation scores don't improve for 10 rounds\n",
      "[10]\ttraining's binary_logloss: 0.223641\tvalid_1's binary_logloss: 0.235532\n",
      "[20]\ttraining's binary_logloss: 0.206465\tvalid_1's binary_logloss: 0.221475\n",
      "[30]\ttraining's binary_logloss: 0.195556\tvalid_1's binary_logloss: 0.214383\n",
      "[40]\ttraining's binary_logloss: 0.186969\tvalid_1's binary_logloss: 0.21\n",
      "[50]\ttraining's binary_logloss: 0.179944\tvalid_1's binary_logloss: 0.207089\n",
      "[60]\ttraining's binary_logloss: 0.173562\tvalid_1's binary_logloss: 0.205646\n",
      "[70]\ttraining's binary_logloss: 0.168277\tvalid_1's binary_logloss: 0.204792\n",
      "[80]\ttraining's binary_logloss: 0.163626\tvalid_1's binary_logloss: 0.203413\n",
      "[90]\ttraining's binary_logloss: 0.159031\tvalid_1's binary_logloss: 0.203127\n",
      "[100]\ttraining's binary_logloss: 0.154944\tvalid_1's binary_logloss: 0.203095\n",
      "Early stopping, best iteration is:\n",
      "[96]\ttraining's binary_logloss: 0.156594\tvalid_1's binary_logloss: 0.202948\n",
      "auc  0.8629080232623793\n"
     ]
    }
   ],
   "source": [
    "from sklearn.model_selection import KFold\n",
    "from sklearn import metrics\n",
    "\n",
    "\n",
    "y_preds = []\n",
    "models = []\n",
    "oof_train = np.zeros((len(X_train),))\n",
    "cv = KFold(n_splits=5, shuffle=True, random_state=0)\n",
    "\n",
    "\n",
    "params = {\n",
    "    'objective': 'binary',\n",
    "    'max_bin': 300,\n",
    "    'learning_rate': 0.05,\n",
    "    'num_leaves': 40\n",
    "}\n",
    "\n",
    "for fold_id, (train_index, valid_index) in enumerate(cv.split(X_train)):\n",
    "    X_tr = X_train.loc[train_index, :]\n",
    "    X_val = X_train.loc[valid_index, :]\n",
    "    y_tr = y_train[train_index]\n",
    "    y_val = y_train[valid_index]\n",
    "\n",
    "    lgb_train = lgb.Dataset(X_tr, y_tr, categorical_feature=categorical_features)\n",
    "    lgb_eval = lgb.Dataset(X_val, y_val, reference=lgb_train, categorical_feature=categorical_features)\n",
    "\n",
    "    model = lgb.train(\n",
    "        params, lgb_train,\n",
    "        valid_sets=[lgb_train, lgb_eval],\n",
    "        verbose_eval=10,\n",
    "        num_boost_round=1000,\n",
    "        early_stopping_rounds=10\n",
    "    )\n",
    "\n",
    "    oof_train[valid_index] = model.predict(X_val, num_iteration=model.best_iteration)\n",
    "    y_pred = model.predict(X_test, num_iteration=model.best_iteration)\n",
    "\n",
    "    y_preds.append(y_pred)\n",
    "    models.append(model)\n",
    "    \n",
    "    # eval\n",
    "    #acc = accuracy_score(y_val, y_pred)\n",
    "    fpr, tpr, thresholds = metrics.roc_curve(y_val, oof_train[valid_index])\n",
    "    auc = metrics.auc(fpr, tpr)\n",
    "    print('auc ', auc)"
   ]
  },
  {
   "cell_type": "code",
   "execution_count": 11,
   "metadata": {},
   "outputs": [
    {
     "name": "stdout",
     "output_type": "stream",
     "text": [
      "===CV scores===\n",
      "[0.18479753709657076, 0.20904965476213458, 0.2071616492480855, 0.19989304566394617, 0.2029484250817564]\n",
      "0.20077006237049871\n"
     ]
    }
   ],
   "source": [
    "pd.DataFrame(oof_train).to_csv('oof_train_kfold.csv', index=False)\n",
    "\n",
    "scores = [\n",
    "    m.best_score['valid_1']['binary_logloss'] for m in models\n",
    "]\n",
    "score = sum(scores) / len(scores)\n",
    "print('===CV scores===')\n",
    "print(scores)\n",
    "print(score)"
   ]
  },
  {
   "cell_type": "code",
   "execution_count": 12,
   "metadata": {},
   "outputs": [
    {
     "data": {
      "text/plain": [
       "0.931549815498155"
      ]
     },
     "execution_count": 12,
     "metadata": {},
     "output_type": "execute_result"
    }
   ],
   "source": [
    "from sklearn.metrics import accuracy_score\n",
    "\n",
    "\n",
    "y_pred_oof = (oof_train > 0.5).astype(int)\n",
    "accuracy_score(y_train, y_pred_oof)"
   ]
  },
  {
   "cell_type": "code",
   "execution_count": 13,
   "metadata": {},
   "outputs": [
    {
     "data": {
      "text/plain": [
       "0.8517739935623644"
      ]
     },
     "execution_count": 13,
     "metadata": {},
     "output_type": "execute_result"
    }
   ],
   "source": [
    "fpr, tpr, thresholds = metrics.roc_curve(y_train, oof_train)\n",
    "metrics.auc(fpr, tpr)\n",
    "\n",
    "# baseline is 0.8512576188085433\n",
    "# 0.8517739935623644"
   ]
  },
  {
   "cell_type": "code",
   "execution_count": 14,
   "metadata": {},
   "outputs": [],
   "source": [
    "from sklearn.metrics import confusion_matrix\n",
    "\n",
    "\n",
    "cm = confusion_matrix(y_train, y_pred_oof)"
   ]
  },
  {
   "cell_type": "code",
   "execution_count": 15,
   "metadata": {},
   "outputs": [
    {
     "data": {
      "text/plain": [
       "array([[24793,   195],\n",
       "       [ 1660,   452]], dtype=int64)"
      ]
     },
     "execution_count": 15,
     "metadata": {},
     "output_type": "execute_result"
    }
   ],
   "source": [
    "cm"
   ]
  },
  {
   "cell_type": "code",
   "execution_count": null,
   "metadata": {},
   "outputs": [],
   "source": []
  },
  {
   "cell_type": "code",
   "execution_count": null,
   "metadata": {},
   "outputs": [],
   "source": []
  },
  {
   "cell_type": "markdown",
   "metadata": {},
   "source": [
    "## Reference\n",
    "- CV\n",
    "    - https://www.kaggle.com/sishihara/upura-kaggle-tutorial-06-validation\n",
    "- Metric\n",
    "    - https://scikit-learn.org/stable/modules/generated/sklearn.metrics.auc.html#sklearn.metrics.auc"
   ]
  },
  {
   "cell_type": "code",
   "execution_count": null,
   "metadata": {},
   "outputs": [],
   "source": []
  },
  {
   "cell_type": "code",
   "execution_count": null,
   "metadata": {},
   "outputs": [],
   "source": []
  },
  {
   "cell_type": "code",
   "execution_count": null,
   "metadata": {},
   "outputs": [],
   "source": []
  },
  {
   "cell_type": "code",
   "execution_count": null,
   "metadata": {},
   "outputs": [],
   "source": []
  },
  {
   "cell_type": "code",
   "execution_count": null,
   "metadata": {},
   "outputs": [],
   "source": []
  }
 ],
 "metadata": {
  "kernelspec": {
   "display_name": "Python 3",
   "language": "python",
   "name": "python3"
  },
  "language_info": {
   "codemirror_mode": {
    "name": "ipython",
    "version": 3
   },
   "file_extension": ".py",
   "mimetype": "text/x-python",
   "name": "python",
   "nbconvert_exporter": "python",
   "pygments_lexer": "ipython3",
   "version": "3.8.3"
  }
 },
 "nbformat": 4,
 "nbformat_minor": 4
}
